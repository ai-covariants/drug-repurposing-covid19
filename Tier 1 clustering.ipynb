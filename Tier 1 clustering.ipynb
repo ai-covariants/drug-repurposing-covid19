{
  "nbformat": 4,
  "nbformat_minor": 0,
  "metadata": {
    "colab": {
      "provenance": []
    },
    "kernelspec": {
      "name": "python3",
      "display_name": "Python 3"
    },
    "language_info": {
      "name": "python"
    }
  },
  "cells": [
    {
      "cell_type": "markdown",
      "source": [
        "## Mount google drive and load required libraries"
      ],
      "metadata": {
        "id": "u9FyHib9jejU"
      }
    },
    {
      "cell_type": "code",
      "execution_count": null,
      "metadata": {
        "colab": {
          "base_uri": "https://localhost:8080/"
        },
        "id": "uRgMfgzAoe7M",
        "outputId": "c7820994-eb3f-4309-abca-c59f8f16474f"
      },
      "outputs": [
        {
          "output_type": "stream",
          "name": "stdout",
          "text": [
            "Mounted at /content/drive\n"
          ]
        }
      ],
      "source": [
        "from google.colab import drive\n",
        "drive.mount('/content/drive')"
      ]
    },
    {
      "cell_type": "code",
      "source": [
        "import numpy as np\n",
        "import pandas as pd\n",
        "import matplotlib.pyplot as plt\n",
        "import seaborn as sns\n",
        "%matplotlib inline\n",
        "from sklearn.preprocessing import LabelEncoder\n",
        "import warnings\n",
        "from sklearn.preprocessing import MinMaxScaler\n",
        "from sklearn.cluster import KMeans\n",
        "from scipy.spatial.distance import pdist, squareform\n",
        "import scipy\n",
        "from scipy.sparse import csgraph\n",
        "from numpy import linalg as LA\n",
        "import scipy.cluster.hierarchy as sch\n",
        "from sklearn import metrics\n",
        "from sklearn.cluster import AgglomerativeClustering\n",
        "from sklearn.cluster import SpectralClustering, AffinityPropagation\n",
        "warnings.filterwarnings('ignore')"
      ],
      "metadata": {
        "id": "oMBZLQ0eos_o"
      },
      "execution_count": null,
      "outputs": []
    },
    {
      "cell_type": "markdown",
      "source": [
        "## Load data \n",
        "\n",
        "* Total drugs in the dataset = 485 \n",
        "* Total features = 68\n",
        "* Total biological properties (textual features/network information) = 4\n",
        "    1. Drug-MOA = 371 x 177\n",
        "    2. Drug-Pathway = 323 x 134\n",
        "    3. Drug-Target = 328 x 626\n",
        "    4. Drug-Indication = 435 x 180\n",
        "* Total numerical features (chemical/physical properties/pharmacokinetics) = 4\n"
      ],
      "metadata": {
        "id": "KcoX5SSIj676"
      }
    },
    {
      "cell_type": "code",
      "source": [
        "drug_moa_df = pd.read_csv('df_moa_relationship.csv')\n",
        "drug_indication_df = pd.read_csv('df_indication_relationship.csv')\n",
        "drug_pathway_df = pd.read_csv('df_pathway_relationship.csv')\n",
        "drug_target_df = pd.read_csv('df_target_relationship.csv')\n",
        "drug_df = pd.read_csv('drug_nodes_CT.csv')\n",
        "drug_num_df = pd.read_csv('all_drug_data_processed.csv')\n",
        "drug_full = drug_df['Name'].tolist()"
      ],
      "metadata": {
        "id": "BJ2gj0djpIZr"
      },
      "execution_count": null,
      "outputs": []
    },
    {
      "cell_type": "markdown",
      "source": [
        "## Comparing Different Clustering Frameworks for Tier-1 \n",
        "\n",
        "* All clusters will be evaluated using silhouette_score as true labels are not available. \n",
        "* adjusted_rand_score is used to compare the level of similarity of best clusters from all 4 frameworks. \n",
        "* Frameworks compared are as follows:\n",
        "    1. KMeans Clustering \n",
        "    2. Spectral Clustering\n",
        "    3. Hierarchial Clustering\n"
      ],
      "metadata": {
        "id": "K5neNwIzk3VB"
      }
    },
    {
      "cell_type": "markdown",
      "source": [
        "### Framework for KMeans"
      ],
      "metadata": {
        "id": "07PddeLslnAw"
      }
    },
    {
      "cell_type": "code",
      "source": [
        "def load_data(df_org):\n",
        "  df = df_org.copy()\n",
        "  le = LabelEncoder()\n",
        "  y = df['Name']\n",
        "  df['Name'] = le.fit_transform(df['Name'])\n",
        "  y = le.transform(y)\n",
        "  cols = df.columns\n",
        "  ms = MinMaxScaler()\n",
        "  X = ms.fit_transform(df)\n",
        "  X = pd.DataFrame(X, columns=[cols])\n",
        "  return df,y,X\n",
        "\n",
        "def k_means_elbow_method(X,title):\n",
        "  cs = []\n",
        "  for i in range(1,300):\n",
        "      kmeans = KMeans(n_clusters = i, init = 'k-means++', max_iter = 300, n_init = 10, random_state = 0)\n",
        "      kmeans.fit(X)\n",
        "      cs.append(kmeans.inertia_)\n",
        "  plt.plot(range(1,300), cs)\n",
        "  plt.title('The Elbow Method '+title)\n",
        "  plt.xlabel('Number of clusters')\n",
        "  plt.ylabel('CS')\n",
        "  plt.show()\n",
        "\n",
        "def k_means_clustering(nclusters,X):\n",
        "  kmeans = KMeans(n_clusters=nclusters, random_state=0) \n",
        "  kmeans.fit(X)\n",
        "  kmeans.cluster_centers_\n",
        "  print(kmeans.inertia_)\n",
        "  return kmeans.labels_\n",
        "\n",
        "def make_df(labels,y,name,df_org):\n",
        "  df = pd.DataFrame({'node-value':y, 'cluster-label':labels})\n",
        "  df['drug'] = df_org['Name']\n",
        "  df = df.sort_values('cluster-label')\n",
        "  fileName = 'data/T1/' + name\n",
        "  df.to_csv(fileName)\n",
        "  return df\n",
        "\n",
        "def complete_df(df,drug_full,name):\n",
        "  df = df.drop('node-value', axis=1)\n",
        "  drug_subset = df['drug'].tolist()\n",
        "  missing_drug = list(set(drug_full)-set(drug_subset))\n",
        "  xtra = {'drug': missing_drug}\n",
        "  df = df.append(pd.DataFrame(xtra))\n",
        "  fileName = 'data/T1-Inter-CT/' + name\n",
        "  df.to_csv(fileName)\n",
        "  #return df"
      ],
      "metadata": {
        "id": "tcQkqbOBpNX7"
      },
      "execution_count": null,
      "outputs": []
    },
    {
      "cell_type": "markdown",
      "source": [
        "### Framework for Spectral Clustering"
      ],
      "metadata": {
        "id": "Uk4sojz3lrD3"
      }
    },
    {
      "cell_type": "code",
      "source": [
        "def getAffinityMatrix(coordinates, k = 7):\n",
        "    \"\"\"\n",
        "    Calculate affinity matrix based on input coordinates matrix and the numeber\n",
        "    of nearest neighbours.\n",
        "    \n",
        "    Apply local scaling based on the k nearest neighbour\n",
        "        References:\n",
        "    https://papers.nips.cc/paper/2619-self-tuning-spectral-clustering.pdf\n",
        "    \"\"\"\n",
        "    # calculate euclidian distance matrix\n",
        "    dists = squareform(pdist(coordinates)) \n",
        "    \n",
        "    # for each row, sort the distances ascendingly and take the index of the \n",
        "    #k-th position (nearest neighbour)`\n",
        "    knn_distances = np.sort(dists, axis=0)[k]\n",
        "    knn_distances = knn_distances[np.newaxis].T\n",
        "    \n",
        "    # calculate sigma_i * sigma_j\n",
        "    local_scale = knn_distances.dot(knn_distances.T)\n",
        "\n",
        "    affinity_matrix = dists * dists\n",
        "    affinity_matrix = -affinity_matrix / local_scale\n",
        "    # divide square distance matrix by local scale\n",
        "    affinity_matrix[np.where(np.isnan(affinity_matrix))] = 0.0\n",
        "    # apply exponential\n",
        "    affinity_matrix = np.exp(affinity_matrix)\n",
        "    np.fill_diagonal(affinity_matrix, 0)\n",
        "    return affinity_matrix\n",
        "\n",
        "def eigenDecomposition(A, plot = True, topK = 5):\n",
        "    \"\"\"\n",
        "    :param A: Affinity matrix\n",
        "    :param plot: plots the sorted eigen values for visual inspection\n",
        "    :return A tuple containing:\n",
        "    - the optimal number of clusters by eigengap heuristic\n",
        "    - all eigen values\n",
        "    - all eigen vectors\n",
        "    \n",
        "    This method performs the eigen decomposition on a given affinity matrix,\n",
        "    following the steps recommended in the paper:\n",
        "    1. Construct the normalized affinity matrix: L = D−1/2ADˆ −1/2.\n",
        "    2. Find the eigenvalues and their associated eigen vectors\n",
        "    3. Identify the maximum gap which corresponds to the number of clusters\n",
        "    by eigengap heuristic\n",
        "    \n",
        "    References:\n",
        "    https://papers.nips.cc/paper/2619-self-tuning-spectral-clustering.pdf\n",
        "    http://www.kyb.mpg.de/fileadmin/user_upload/files/publications/attachments/Luxburg07_tutorial_4488%5b0%5d.pdf\n",
        "    \"\"\"\n",
        "    L = csgraph.laplacian(A, normed=True)\n",
        "    n_components = A.shape[0]\n",
        "    \n",
        "    # LM parameter : Eigenvalues with largest magnitude (eigs, eigsh), that is, largest eigenvalues in \n",
        "    # the euclidean norm of complex numbers.\n",
        "#     eigenvalues, eigenvectors = eigsh(L, k=n_components, which=\"LM\", sigma=1.0, maxiter=5000)\n",
        "    eigenvalues, eigenvectors = LA.eig(L)\n",
        "    \n",
        "    if plot:\n",
        "        plt.title('Largest eigen values of input matrix')\n",
        "        plt.scatter(np.arange(len(eigenvalues)), eigenvalues)\n",
        "        plt.grid()\n",
        "        \n",
        "    # Identify the optimal number of clusters as the index corresponding\n",
        "    # to the larger gap between eigen values\n",
        "    index_largest_gap = np.argsort(np.diff(eigenvalues))[::-1][:topK]\n",
        "    nb_clusters = index_largest_gap + 1\n",
        "        \n",
        "    return nb_clusters, eigenvalues, eigenvectors"
      ],
      "metadata": {
        "id": "lepeDGK2rBCQ"
      },
      "execution_count": null,
      "outputs": []
    },
    {
      "cell_type": "markdown",
      "source": [
        "## Drug-MOA"
      ],
      "metadata": {
        "id": "E-pg2gkDtbfh"
      }
    },
    {
      "cell_type": "markdown",
      "source": [
        "### KMeans"
      ],
      "metadata": {
        "id": "az2Gn7OTteWR"
      }
    },
    {
      "cell_type": "code",
      "source": [
        "df_drug_moa,y_drug_moa,X_drug_moa = load_data(drug_moa_df)\n",
        "k_means_elbow_method(X_drug_moa,'Drug-MOA')\n",
        "# 80 seems appropriate"
      ],
      "metadata": {
        "colab": {
          "base_uri": "https://localhost:8080/",
          "height": 295
        },
        "id": "D0MB9Gu2qduf",
        "outputId": "0a266803-4099-4194-a8c1-fbf9b371a477"
      },
      "execution_count": null,
      "outputs": [
        {
          "output_type": "display_data",
          "data": {
            "text/plain": [
              "<Figure size 432x288 with 1 Axes>"
            ],
            "image/png": "[encoded data removed]"
          },
          "metadata": {
            "needs_background": "light"
          }
        }
      ]
    },
    {
      "cell_type": "code",
      "source": [
        "label_drug_moa = k_means_clustering(160,X_drug_moa)\n",
        "df_new_drug_moa = make_df(label_drug_moa,y_drug_moa,'Drug-MOA-Kmeans.csv',drug_moa_df)\n",
        "print('silhouette_score')\n",
        "print(metrics.silhouette_score(X_drug_moa, label_drug_moa, metric='euclidean'))\n",
        "complete_df(df_new_drug_moa,drug_full,'Drug-MOA-KMeans.csv')"
      ],
      "metadata": {
        "colab": {
          "base_uri": "https://localhost:8080/"
        },
        "id": "tBVj9hxOqqYk",
        "outputId": "8ed470f0-53c8-44ab-b4c6-75fa65ccbd8a"
      },
      "execution_count": null,
      "outputs": [
        {
          "output_type": "stream",
          "name": "stdout",
          "text": [
            "19.964332394565513\n",
            "silhouette_score\n",
            "0.5576860287403166\n"
          ]
        }
      ]
    },
    {
      "cell_type": "markdown",
      "source": [
        "### Spectral Clustering"
      ],
      "metadata": {
        "id": "J7XmFKbFthdc"
      }
    },
    {
      "cell_type": "code",
      "source": [
        "df_drug_moa,y_drug_moa,X_drug_moa = load_data(drug_moa_df)\n",
        "y = drug_moa_df['Name']\n",
        "X_moa = drug_moa_df.drop('Name',axis=1)"
      ],
      "metadata": {
        "id": "r9Rqqjq9sdzE"
      },
      "execution_count": null,
      "outputs": []
    },
    {
      "cell_type": "code",
      "source": [
        "affinity_matrix_moa = getAffinityMatrix(X_moa, k = 7)\n",
        "k, _,  _ = eigenDecomposition(affinity_matrix_moa)\n",
        "print(f'Optimal number of clusters {k}')"
      ],
      "metadata": {
        "colab": {
          "base_uri": "https://localhost:8080/",
          "height": 299
        },
        "id": "HwJuTfiOrYQS",
        "outputId": "9a787171-9255-459a-9ab4-0edeed999775"
      },
      "execution_count": null,
      "outputs": [
        {
          "output_type": "stream",
          "name": "stdout",
          "text": [
            "Optimal number of clusters [ 56   1   9  81 253]\n"
          ]
        },
        {
          "output_type": "display_data",
          "data": {
            "text/plain": [
              "<Figure size 432x288 with 1 Axes>"
            ],
            "image/png": "[encoded data removed]"
          },
          "metadata": {
            "needs_background": "light"
          }
        }
      ]
    },
    {
      "cell_type": "code",
      "source": [
        "clustering = SpectralClustering(n_clusters=253, assign_labels=\"discretize\", random_state=0).fit(X_moa)\n",
        "y_pred = clustering.labels_\n",
        "print('silhouette_score')\n",
        "print(metrics.silhouette_score(X_moa,y_pred, metric='euclidean'))\n",
        "df_new_drug_moa = make_df(y_pred,y_drug_moa,'Drug-MOA-SC.csv',drug_moa_df)\n",
        "complete_df(df_new_drug_moa,drug_full,'Drug-MOA-SC.csv')"
      ],
      "metadata": {
        "colab": {
          "base_uri": "https://localhost:8080/"
        },
        "id": "rWF_Ws9Yr1dh",
        "outputId": "6379edf5-6973-4370-fde1-e632544fbc59"
      },
      "execution_count": null,
      "outputs": [
        {
          "output_type": "stream",
          "name": "stdout",
          "text": [
            "silhouette_score\n",
            "0.45361965827173434\n"
          ]
        }
      ]
    },
    {
      "cell_type": "markdown",
      "source": [
        "### Hierarchial Clustering"
      ],
      "metadata": {
        "id": "EsotcMz8tlEA"
      }
    },
    {
      "cell_type": "code",
      "source": [
        "dendrogram = sch.dendrogram(sch.linkage(X_moa, method = 'complete')) # finding the optimal number of clusters using dendrogram\n",
        "plt.title('Dendrogram') # title of the dendrogram\n",
        "plt.xlabel('Drugs') # label of the x-axis\n",
        "plt.ylabel('Euclidean distances') # label of the y-axis\n",
        "plt.show() # show the dendrogram"
      ],
      "metadata": {
        "colab": {
          "base_uri": "https://localhost:8080/",
          "height": 295
        },
        "id": "BGL2vhTYsJ3d",
        "outputId": "bef94c75-9887-4887-94f0-56d89b44ede1"
      },
      "execution_count": null,
      "outputs": [
        {
          "output_type": "display_data",
          "data": {
            "text/plain": [
              "<Figure size 432x288 with 1 Axes>"
            ],
            "image/png": "[encoded data removed]"
          },
          "metadata": {
            "needs_background": "light"
          }
        }
      ]
    },
    {
      "cell_type": "code",
      "source": [
        "clustering_model = AgglomerativeClustering(n_clusters=200,affinity='euclidean', linkage='ward')\n",
        "clustering_model.fit(X_moa)\n",
        "print('silhouette_score')\n",
        "print(metrics.silhouette_score(X_moa,clustering_model.labels_, metric='euclidean'))\n",
        "df_new_drug_moa = make_df(clustering_model.labels_,y_drug_moa,'Drug-MOA-HC.csv',drug_moa_df)\n",
        "complete_df(df_new_drug_moa,drug_full,'Drug-MOA-HC.csv')"
      ],
      "metadata": {
        "colab": {
          "base_uri": "https://localhost:8080/"
        },
        "id": "66UkkcvMskDf",
        "outputId": "bd25312f-1da0-4e24-cca9-fb71a3f5fb6c"
      },
      "execution_count": null,
      "outputs": [
        {
          "output_type": "stream",
          "name": "stdout",
          "text": [
            "silhouette_score\n",
            "0.3504043126684636\n"
          ]
        }
      ]
    },
    {
      "cell_type": "markdown",
      "source": [
        "## Drug-Pathway"
      ],
      "metadata": {
        "id": "g7x8tokymAho"
      }
    },
    {
      "cell_type": "markdown",
      "source": [
        "### KMeans Clustering"
      ],
      "metadata": {
        "id": "N6zN2QhrmGl_"
      }
    },
    {
      "cell_type": "code",
      "source": [
        "df_drug_path,y_drug_path,X_drug_path = load_data(drug_pathway_df)\n",
        "k_means_elbow_method(X_drug_moa,'Drug-Pathway')\n",
        "# 80 seems appropriate"
      ],
      "metadata": {
        "id": "Yev7xJmIs-Mb",
        "colab": {
          "base_uri": "https://localhost:8080/",
          "height": 295
        },
        "outputId": "25e1b573-0185-41cc-ad13-8d264ef13b8d"
      },
      "execution_count": null,
      "outputs": [
        {
          "output_type": "display_data",
          "data": {
            "text/plain": [
              "<Figure size 432x288 with 1 Axes>"
            ],
            "image/png": "[encoded data removed]"
          },
          "metadata": {
            "needs_background": "light"
          }
        }
      ]
    },
    {
      "cell_type": "code",
      "source": [
        "label_drug_path = k_means_clustering(160,X_drug_path)\n",
        "df_new_drug_path = make_df(label_drug_path,y_drug_path,'Drug-Pathway-Kmeans.csv',drug_pathway_df)\n",
        "print('silhouette_score')\n",
        "print(metrics.silhouette_score(X_drug_path, label_drug_path, metric='euclidean'))\n",
        "complete_df(df_new_drug_path,drug_full,'Drug-Pathway-KMeans.csv')"
      ],
      "metadata": {
        "colab": {
          "base_uri": "https://localhost:8080/"
        },
        "id": "i7_LoldGmTTO",
        "outputId": "736d9c5c-b71c-4e22-b15c-e1f59d4cdcf3"
      },
      "execution_count": null,
      "outputs": [
        {
          "output_type": "stream",
          "name": "stdout",
          "text": [
            "5.958862627776827\n",
            "silhouette_score\n",
            "0.5255745603131781\n"
          ]
        }
      ]
    },
    {
      "cell_type": "markdown",
      "source": [
        "### Spectral Clustering"
      ],
      "metadata": {
        "id": "qUti9EGDnbUM"
      }
    },
    {
      "cell_type": "code",
      "source": [
        "df_drug_path,y_drug_path,X_drug_path = load_data(drug_pathway_df)\n",
        "y = drug_pathway_df['Name']\n",
        "X_path = drug_pathway_df.drop('Name',axis=1)"
      ],
      "metadata": {
        "id": "Tt0ah-dGnaf9"
      },
      "execution_count": null,
      "outputs": []
    },
    {
      "cell_type": "code",
      "source": [
        "affinity_matrix_path = getAffinityMatrix(X_path, k = 5)\n",
        "k, _,  _ = eigenDecomposition(affinity_matrix_path)\n",
        "print(f'Optimal number of clusters {k}')"
      ],
      "metadata": {
        "colab": {
          "base_uri": "https://localhost:8080/",
          "height": 299
        },
        "id": "Jr6MLSFWoYn6",
        "outputId": "7d11d152-0639-4148-e15c-8f087c13fdb4"
      },
      "execution_count": null,
      "outputs": [
        {
          "output_type": "stream",
          "name": "stdout",
          "text": [
            "Optimal number of clusters [ 1 25  9  5 70]\n"
          ]
        },
        {
          "output_type": "display_data",
          "data": {
            "text/plain": [
              "<Figure size 432x288 with 1 Axes>"
            ],
            "image/png": "[encoded data removed]"
          },
          "metadata": {
            "needs_background": "light"
          }
        }
      ]
    },
    {
      "cell_type": "code",
      "source": [
        "clustering = SpectralClustering(n_clusters=70, assign_labels=\"discretize\", random_state=0).fit(X_path)\n",
        "y_pred = clustering.labels_\n",
        "print('silhouette_score')\n",
        "print(metrics.silhouette_score(X_path,y_pred, metric='euclidean'))\n",
        "df_new_drug_path = make_df(y_pred,y_drug_path,'Drug-Pathway-SC.csv',drug_pathway_df)\n",
        "complete_df(df_new_drug_path,drug_full,'Drug-Pathway-SC.csv')"
      ],
      "metadata": {
        "colab": {
          "base_uri": "https://localhost:8080/"
        },
        "id": "TeULf3H_nqp7",
        "outputId": "41b7506c-27c9-498b-ff26-f7856e450324"
      },
      "execution_count": null,
      "outputs": [
        {
          "output_type": "stream",
          "name": "stdout",
          "text": [
            "silhouette_score\n",
            "0.5820778545464833\n"
          ]
        }
      ]
    },
    {
      "cell_type": "markdown",
      "source": [
        "### Hierarchial Clustering"
      ],
      "metadata": {
        "id": "rfUTyQ1upA87"
      }
    },
    {
      "cell_type": "code",
      "source": [
        "dendrogram = sch.dendrogram(sch.linkage(X_path, method = 'complete')) # finding the optimal number of clusters using dendrogram\n",
        "plt.title('Dendrogram') # title of the dendrogram\n",
        "plt.xlabel('Drugs') # label of the x-axis\n",
        "plt.ylabel('Euclidean distances') # label of the y-axis\n",
        "plt.show() # show the dendrogram"
      ],
      "metadata": {
        "colab": {
          "base_uri": "https://localhost:8080/",
          "height": 295
        },
        "id": "Z2UaQgvNoUo5",
        "outputId": "9357177f-179c-4823-edda-be111a02ca78"
      },
      "execution_count": null,
      "outputs": [
        {
          "output_type": "display_data",
          "data": {
            "text/plain": [
              "<Figure size 432x288 with 1 Axes>"
            ],
            "image/png": "[encoded data removed]"
          },
          "metadata": {
            "needs_background": "light"
          }
        }
      ]
    },
    {
      "cell_type": "code",
      "source": [
        "clustering_model = AgglomerativeClustering(n_clusters=200, affinity='euclidean', linkage='ward')\n",
        "clustering_model.fit(X_path)\n",
        "print('silhouette_score')\n",
        "print(metrics.silhouette_score(X_path,clustering_model.labels_, metric='euclidean'))\n",
        "df_new_drug_path = make_df(clustering_model.labels_,y_drug_path,'Drug-Pathway-HC.csv',drug_pathway_df)\n",
        "complete_df(df_new_drug_path,drug_full,'Drug-Pathway-HC.csv')"
      ],
      "metadata": {
        "colab": {
          "base_uri": "https://localhost:8080/"
        },
        "id": "M7nD2I9DqIO_",
        "outputId": "26ca4391-8ae0-4367-ec90-7343ab8e8358"
      },
      "execution_count": null,
      "outputs": [
        {
          "output_type": "stream",
          "name": "stdout",
          "text": [
            "silhouette_score\n",
            "0.3219814241486068\n"
          ]
        }
      ]
    },
    {
      "cell_type": "markdown",
      "source": [
        "## Drug-Target"
      ],
      "metadata": {
        "id": "gR4COZcwu0wk"
      }
    },
    {
      "cell_type": "markdown",
      "source": [
        "### KMeans Clustering"
      ],
      "metadata": {
        "id": "N_VEcksgwu9_"
      }
    },
    {
      "cell_type": "code",
      "source": [
        "df_drug_target,y_drug_target,X_drug_target = load_data(drug_target_df)\n",
        "k_means_elbow_method(X_drug_target,'Drug-Target')\n",
        "# 80 seems appropriate"
      ],
      "metadata": {
        "colab": {
          "base_uri": "https://localhost:8080/",
          "height": 295
        },
        "id": "P1qpIrdarUf-",
        "outputId": "7e8c1a7b-d31e-4d16-91b1-b2cab986ee0f"
      },
      "execution_count": null,
      "outputs": [
        {
          "output_type": "display_data",
          "data": {
            "text/plain": [
              "<Figure size 432x288 with 1 Axes>"
            ],
            "image/png": "[encoded data removed]"
          },
          "metadata": {
            "needs_background": "light"
          }
        }
      ]
    },
    {
      "cell_type": "code",
      "source": [
        "label_drug_target = k_means_clustering(170,X_drug_target)\n",
        "df_new_drug_target = make_df(label_drug_target,y_drug_target,'Drug-Target-Kmeans.csv',drug_target_df)\n",
        "print('silhouette_score')\n",
        "print(metrics.silhouette_score(X_drug_target, label_drug_target, metric='euclidean'))\n",
        "complete_df(df_new_drug_target,drug_full,'Drug-Target-KMeans.csv')"
      ],
      "metadata": {
        "colab": {
          "base_uri": "https://localhost:8080/"
        },
        "id": "NvcsAJXhvG39",
        "outputId": "ba958b4d-99c2-438d-a31c-4b1f970d16a9"
      },
      "execution_count": null,
      "outputs": [
        {
          "output_type": "stream",
          "name": "stdout",
          "text": [
            "101.66169852803975\n",
            "silhouette_score\n",
            "0.25686115263955767\n"
          ]
        }
      ]
    },
    {
      "cell_type": "markdown",
      "source": [
        "### Spectral Clustering"
      ],
      "metadata": {
        "id": "gX7vn4K_wyWG"
      }
    },
    {
      "cell_type": "code",
      "source": [
        "df_drug_target,y_drug_target,X_drug_target = load_data(drug_target_df)\n",
        "y = drug_target_df['Name']\n",
        "X_target = drug_target_df.drop('Name',axis=1)"
      ],
      "metadata": {
        "id": "q_unfSgxvfHi"
      },
      "execution_count": null,
      "outputs": []
    },
    {
      "cell_type": "code",
      "source": [
        "affinity_matrix_target = getAffinityMatrix(X_target, k = 10)\n",
        "k, _,  _ = eigenDecomposition(affinity_matrix_target)\n",
        "print(f'Optimal number of clusters {k}')"
      ],
      "metadata": {
        "colab": {
          "base_uri": "https://localhost:8080/",
          "height": 299
        },
        "id": "CuBBW2ouvlra",
        "outputId": "54c5d269-ea65-44f5-fa55-f5f9945bd6dd"
      },
      "execution_count": null,
      "outputs": [
        {
          "output_type": "stream",
          "name": "stdout",
          "text": [
            "Optimal number of clusters [ 3  1  7 48 76]\n"
          ]
        },
        {
          "output_type": "display_data",
          "data": {
            "text/plain": [
              "<Figure size 432x288 with 1 Axes>"
            ],
            "image/png": "[encoded data removed]"
          },
          "metadata": {
            "needs_background": "light"
          }
        }
      ]
    },
    {
      "cell_type": "code",
      "source": [
        "clustering = SpectralClustering(n_clusters=76, assign_labels=\"discretize\", random_state=0).fit(X_target)\n",
        "y_pred = clustering.labels_\n",
        "print('silhouette_score')\n",
        "print(metrics.silhouette_score(X_target,y_pred, metric='euclidean'))\n",
        "df_new_drug_target = make_df(y_pred,y_drug_target,'Drug-Target-SC.csv',drug_target_df)\n",
        "complete_df(df_new_drug_target,drug_full,'Drug-Target-SC.csv')"
      ],
      "metadata": {
        "colab": {
          "base_uri": "https://localhost:8080/"
        },
        "id": "-J9XXfe0vvHJ",
        "outputId": "ef96bfe8-8d5d-4d70-98b4-90bb0be772e3"
      },
      "execution_count": null,
      "outputs": [
        {
          "output_type": "stream",
          "name": "stdout",
          "text": [
            "silhouette_score\n",
            "0.17259269944516933\n"
          ]
        }
      ]
    },
    {
      "cell_type": "markdown",
      "source": [
        "### Hierarchial Clustering"
      ],
      "metadata": {
        "id": "jtvn6fNBw2c2"
      }
    },
    {
      "cell_type": "code",
      "source": [
        "dendrogram = sch.dendrogram(sch.linkage(X_target, method = 'complete')) # finding the optimal number of clusters using dendrogram\n",
        "plt.title('Dendrogram') # title of the dendrogram\n",
        "plt.xlabel('Drugs') # label of the x-axis\n",
        "plt.ylabel('Euclidean distances') # label of the y-axis\n",
        "plt.show() # show the dendrogram"
      ],
      "metadata": {
        "colab": {
          "base_uri": "https://localhost:8080/",
          "height": 295
        },
        "id": "wvkfUNq0wFlg",
        "outputId": "61fb273a-5399-4f12-df5d-52f802ccee56"
      },
      "execution_count": null,
      "outputs": [
        {
          "output_type": "display_data",
          "data": {
            "text/plain": [
              "<Figure size 432x288 with 1 Axes>"
            ],
            "image/png": "[encoded data removed]"
          },
          "metadata": {
            "needs_background": "light"
          }
        }
      ]
    },
    {
      "cell_type": "code",
      "source": [
        "clustering_model = AgglomerativeClustering(n_clusters=200, affinity='euclidean', linkage='ward')\n",
        "clustering_model.fit(X_target)\n",
        "print('silhouette_score')\n",
        "print(metrics.silhouette_score(X_target,clustering_model.labels_, metric='euclidean'))\n",
        "df_new_drug_target = make_df(clustering_model.labels_,y_drug_target,'Drug-Target-HC.csv',drug_target_df)\n",
        "complete_df(df_new_drug_target,drug_full,'Drug-Target-HC.csv')"
      ],
      "metadata": {
        "colab": {
          "base_uri": "https://localhost:8080/"
        },
        "id": "3Gj-n58NwLwg",
        "outputId": "a78cc5bd-a3e8-4630-a3e1-0c44e7ec74ed"
      },
      "execution_count": null,
      "outputs": [
        {
          "output_type": "stream",
          "name": "stdout",
          "text": [
            "silhouette_score\n",
            "0.3297262929588163\n"
          ]
        }
      ]
    },
    {
      "cell_type": "markdown",
      "source": [
        "## Drug-Indication"
      ],
      "metadata": {
        "id": "HVfDQniBxDH1"
      }
    },
    {
      "cell_type": "markdown",
      "source": [
        "### KMeans Clustering"
      ],
      "metadata": {
        "id": "NBDNjpNcxGUu"
      }
    },
    {
      "cell_type": "code",
      "source": [
        "df_drug_indication,y_drug_indication,X_drug_indication = load_data(drug_indication_df)\n",
        "k_means_elbow_method(X_drug_indication,'Drug-Indication')\n",
        "# 80 seems appropriate"
      ],
      "metadata": {
        "colab": {
          "base_uri": "https://localhost:8080/",
          "height": 295
        },
        "id": "rc5NaCv9xFUl",
        "outputId": "bdca5b03-c6f7-4678-c36f-176b235336c2"
      },
      "execution_count": null,
      "outputs": [
        {
          "output_type": "display_data",
          "data": {
            "text/plain": [
              "<Figure size 432x288 with 1 Axes>"
            ],
            "image/png": "[encoded data removed]"
          },
          "metadata": {
            "needs_background": "light"
          }
        }
      ]
    },
    {
      "cell_type": "code",
      "source": [
        "label_drug_indication = k_means_clustering(200,X_drug_indication)\n",
        "df_new_drug_indication = make_df(label_drug_indication,y_drug_indication,'Drug-Indication-Kmeans.csv',drug_indication_df)\n",
        "print('silhouette_score')\n",
        "print(metrics.silhouette_score(X_drug_indication, label_drug_indication, metric='euclidean'))\n",
        "complete_df(df_new_drug_indication,drug_full,'Drug-Indication-KMeans.csv')"
      ],
      "metadata": {
        "colab": {
          "base_uri": "https://localhost:8080/"
        },
        "id": "wGhRJlV9xV_d",
        "outputId": "62ba1002-fe32-4f05-9644-5d4dfe680332"
      },
      "execution_count": null,
      "outputs": [
        {
          "output_type": "stream",
          "name": "stdout",
          "text": [
            "6.803014533752473\n",
            "silhouette_score\n",
            "0.522553868776953\n"
          ]
        }
      ]
    },
    {
      "cell_type": "markdown",
      "source": [
        "### Spectral Clustering"
      ],
      "metadata": {
        "id": "Skp0kdiAx4oM"
      }
    },
    {
      "cell_type": "code",
      "source": [
        "df_drug_indication,y_drug_indication,X_drug_indication = load_data(drug_indication_df)\n",
        "y = drug_indication_df['Name']\n",
        "X_indication = drug_indication_df.drop('Name',axis=1)"
      ],
      "metadata": {
        "id": "HaSn8udFxpsD"
      },
      "execution_count": null,
      "outputs": []
    },
    {
      "cell_type": "code",
      "source": [
        "affinity_matrix_indication = getAffinityMatrix(X_indication, k = 7)\n",
        "k, _,  _ = eigenDecomposition(affinity_matrix_indication)\n",
        "print(f'Optimal number of clusters {k}')"
      ],
      "metadata": {
        "colab": {
          "base_uri": "https://localhost:8080/",
          "height": 299
        },
        "id": "HV-ujQZXyY7M",
        "outputId": "eef353d0-185a-4e1f-d0af-2544b308615f"
      },
      "execution_count": null,
      "outputs": [
        {
          "output_type": "stream",
          "name": "stdout",
          "text": [
            "Optimal number of clusters [ 16   9   5 199 194]\n"
          ]
        },
        {
          "output_type": "display_data",
          "data": {
            "text/plain": [
              "<Figure size 432x288 with 1 Axes>"
            ],
            "image/png": "[encoded data removed]"
          },
          "metadata": {
            "needs_background": "light"
          }
        }
      ]
    },
    {
      "cell_type": "code",
      "source": [
        "clustering = SpectralClustering(n_clusters=16, assign_labels=\"discretize\", random_state=0).fit(X_indication)\n",
        "y_pred = clustering.labels_\n",
        "print('silhouette_score')\n",
        "print(metrics.silhouette_score(X_indication,y_pred, metric='euclidean'))\n",
        "df_new_drug_indication = make_df(y_pred,y_drug_indication,'Drug-Indication-SC.csv',drug_indication_df)\n",
        "complete_df(df_new_drug_indication,drug_full,'Drug-Indication-SC.csv')"
      ],
      "metadata": {
        "colab": {
          "base_uri": "https://localhost:8080/"
        },
        "id": "Ucl3f0WByjI5",
        "outputId": "ff26437e-8570-46dc-af29-6e0ee24761c4"
      },
      "execution_count": null,
      "outputs": [
        {
          "output_type": "stream",
          "name": "stdout",
          "text": [
            "silhouette_score\n",
            "0.3325571229059299\n"
          ]
        }
      ]
    },
    {
      "cell_type": "markdown",
      "source": [
        "### Hierarchial Clustering"
      ],
      "metadata": {
        "id": "WSujnPR0yyVI"
      }
    },
    {
      "cell_type": "code",
      "source": [
        "dendrogram = sch.dendrogram(sch.linkage(X_indication, method = 'complete')) # finding the optimal number of clusters using dendrogram\n",
        "plt.title('Dendrogram') # title of the dendrogram\n",
        "plt.xlabel('Drugs') # label of the x-axis\n",
        "plt.ylabel('Euclidean distances') # label of the y-axis\n",
        "plt.show() # show the dendrogram"
      ],
      "metadata": {
        "colab": {
          "base_uri": "https://localhost:8080/",
          "height": 295
        },
        "id": "o6W_D8Xxy1Sh",
        "outputId": "5cb6aaf2-88a2-47d7-dc81-de1a5a376ced"
      },
      "execution_count": null,
      "outputs": [
        {
          "output_type": "display_data",
          "data": {
            "text/plain": [
              "<Figure size 432x288 with 1 Axes>"
            ],
            "image/png": "[encoded data removed]"
          },
          "metadata": {
            "needs_background": "light"
          }
        }
      ]
    },
    {
      "cell_type": "code",
      "source": [
        "clustering_model = AgglomerativeClustering(n_clusters=200, affinity='euclidean', linkage='ward')\n",
        "clustering_model.fit(X_indication)\n",
        "print('silhouette_score')\n",
        "print(metrics.silhouette_score(X_indication,clustering_model.labels_, metric='euclidean'))\n",
        "df_new_drug_indication = make_df(clustering_model.labels_,y_drug_indication,'Drug-Indication-HC.csv',drug_indication_df)\n",
        "complete_df(df_new_drug_indication,drug_full,'Drug-Indication-HC.csv')"
      ],
      "metadata": {
        "colab": {
          "base_uri": "https://localhost:8080/"
        },
        "id": "0thqa8XL0zCt",
        "outputId": "8ea435a0-2eea-4d34-df73-8fba7db7bc3d"
      },
      "execution_count": null,
      "outputs": [
        {
          "output_type": "stream",
          "name": "stdout",
          "text": [
            "silhouette_score\n",
            "0.6597701149425287\n"
          ]
        }
      ]
    },
    {
      "cell_type": "markdown",
      "source": [
        "## Numerical Features"
      ],
      "metadata": {
        "id": "77J4j5zSdh05"
      }
    },
    {
      "cell_type": "markdown",
      "source": [
        "### KMeans Clustering"
      ],
      "metadata": {
        "id": "BkMoH27HeJIE"
      }
    },
    {
      "cell_type": "code",
      "source": [
        "df_drug_num,y_drug_num,X_drug_num = load_data(drug_num_df)\n",
        "k_means_elbow_method(X_drug_num,'Drug-Num')\n",
        "# 80 seems appropriate"
      ],
      "metadata": {
        "id": "QquGmTjO2PdC",
        "colab": {
          "base_uri": "https://localhost:8080/",
          "height": 295
        },
        "outputId": "5bf78141-401c-4309-a9c1-d5f1d231b8f9"
      },
      "execution_count": null,
      "outputs": [
        {
          "output_type": "display_data",
          "data": {
            "text/plain": [
              "<Figure size 432x288 with 1 Axes>"
            ],
            "image/png": "[encoded data removed]"
          },
          "metadata": {
            "needs_background": "light"
          }
        }
      ]
    },
    {
      "cell_type": "code",
      "source": [
        "label_drug_num = k_means_clustering(70,X_drug_num)\n",
        "df_new_drug_num = make_df(label_drug_num,y_drug_num,'Drug-Num-Kmeans.csv',drug_num_df)\n",
        "print('silhouette_score')\n",
        "print(metrics.silhouette_score(X_drug_num, label_drug_num, metric='euclidean'))\n",
        "complete_df(df_new_drug_num,drug_full,'Drug-Num-KMeans.csv')"
      ],
      "metadata": {
        "colab": {
          "base_uri": "https://localhost:8080/"
        },
        "id": "QHuBVMYScySA",
        "outputId": "8d232ba0-a7d2-497d-e54a-5e461918b7e8"
      },
      "execution_count": null,
      "outputs": [
        {
          "output_type": "stream",
          "name": "stdout",
          "text": [
            "109.10615330098636\n",
            "silhouette_score\n",
            "0.1302258495827871\n"
          ]
        }
      ]
    },
    {
      "cell_type": "markdown",
      "source": [
        "### Spectral Clustering"
      ],
      "metadata": {
        "id": "H0WedwBGeOLo"
      }
    },
    {
      "cell_type": "code",
      "source": [
        "y = drug_num_df['Name']\n",
        "X_num = drug_num_df.drop('Name',axis=1)"
      ],
      "metadata": {
        "id": "-md31Fv5de7Z"
      },
      "execution_count": null,
      "outputs": []
    },
    {
      "cell_type": "code",
      "source": [
        "affinity_matrix_num = getAffinityMatrix(X_num, k = 5)\n",
        "k, _,  _ = eigenDecomposition(affinity_matrix_num)\n",
        "print(f'Optimal number of clusters {k}')"
      ],
      "metadata": {
        "colab": {
          "base_uri": "https://localhost:8080/",
          "height": 298
        },
        "id": "XIGlZOkCdo82",
        "outputId": "b11fb3d1-5405-4ab6-bf0e-c5a5fef9a8e2"
      },
      "execution_count": null,
      "outputs": [
        {
          "output_type": "stream",
          "name": "stdout",
          "text": [
            "Optimal number of clusters [ 4 23 28 33 55]\n"
          ]
        },
        {
          "output_type": "display_data",
          "data": {
            "text/plain": [
              "<Figure size 432x288 with 1 Axes>"
            ],
            "image/png": "[encoded data removed]"
          },
          "metadata": {
            "needs_background": "light"
          }
        }
      ]
    },
    {
      "cell_type": "code",
      "source": [
        "clustering = SpectralClustering(n_clusters=55, assign_labels=\"discretize\", random_state=0).fit(X_num)\n",
        "y_pred = clustering.labels_\n",
        "print('silhouette_score')\n",
        "print(metrics.silhouette_score(X_num,y_pred, metric='euclidean'))\n",
        "df_new_drug_num = make_df(y_pred,y_drug_num,'Drug-num-SC.csv',drug_num_df)\n",
        "complete_df(df_new_drug_num,drug_full,'Drug-num-SC.csv')"
      ],
      "metadata": {
        "colab": {
          "base_uri": "https://localhost:8080/"
        },
        "id": "LVZE85U5drmI",
        "outputId": "07472d1a-f2f1-49c3-d26f-2186dec4f301"
      },
      "execution_count": null,
      "outputs": [
        {
          "output_type": "stream",
          "name": "stdout",
          "text": [
            "silhouette_score\n",
            "-0.7884803765332495\n"
          ]
        }
      ]
    },
    {
      "cell_type": "markdown",
      "source": [
        "### Hierarchial Clustering"
      ],
      "metadata": {
        "id": "64dfd89AebGn"
      }
    },
    {
      "cell_type": "code",
      "source": [
        "dendrogram = sch.dendrogram(sch.linkage(X_num, method = 'complete')) # finding the optimal number of clusters using dendrogram\n",
        "plt.title('Dendrogram') # title of the dendrogram\n",
        "plt.xlabel('Drugs') # label of the x-axis\n",
        "plt.ylabel('Euclidean distances') # label of the y-axis\n",
        "plt.show() # show the dendrogram"
      ],
      "metadata": {
        "colab": {
          "base_uri": "https://localhost:8080/",
          "height": 295
        },
        "id": "6lYfkr3-eAXn",
        "outputId": "8de7e99f-a69e-4424-c5bb-6967d74fd401"
      },
      "execution_count": null,
      "outputs": [
        {
          "output_type": "display_data",
          "data": {
            "text/plain": [
              "<Figure size 432x288 with 1 Axes>"
            ],
            "image/png": "[encoded data removed]"
          },
          "metadata": {
            "needs_background": "light"
          }
        }
      ]
    },
    {
      "cell_type": "code",
      "source": [],
      "metadata": {
        "id": "ufiDvTajeUb4"
      },
      "execution_count": null,
      "outputs": []
    }
  ]
}
