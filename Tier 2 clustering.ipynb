{
  "nbformat": 4,
  "nbformat_minor": 0,
  "metadata": {
    "colab": {
      "provenance": []
    },
    "kernelspec": {
      "name": "python3",
      "display_name": "Python 3"
    },
    "language_info": {
      "name": "python"
    }
  },
  "cells": [
    {
      "cell_type": "code",
      "execution_count": null,
      "metadata": {
        "colab": {
          "base_uri": "https://localhost:8080/"
        },
        "id": "TcmdLluHL_Uv",
        "outputId": "75164b59-d3c8-44b3-b911-00eb8d584a47"
      },
      "outputs": [
        {
          "output_type": "stream",
          "name": "stdout",
          "text": [
            "Mounted at /content/drive\n"
          ]
        }
      ],
      "source": [
        "from google.colab import drive\n",
        "drive.mount('/content/drive')"
      ]
    },
    {
      "cell_type": "code",
      "source": [
        "import numpy as np\n",
        "import pandas as pd\n",
        "import matplotlib.pyplot as plt\n",
        "import seaborn as sns\n",
        "%matplotlib inline\n",
        "from sklearn.preprocessing import LabelEncoder\n",
        "import warnings\n",
        "from sklearn.preprocessing import MinMaxScaler\n",
        "from sklearn.cluster import KMeans\n",
        "from sklearn.neighbors import NearestNeighbors\n",
        "from sklearn.cluster import DBSCAN\n",
        "from sklearn.cluster import SpectralClustering\n",
        "warnings.filterwarnings('ignore')\n",
        "from sklearn import metrics"
      ],
      "metadata": {
        "id": "zxe_JJZRMIhG"
      },
      "execution_count": null,
      "outputs": []
    },
    {
      "cell_type": "code",
      "source": [
        "data_DDR = 'GAE-128-16-new.csv'\n",
        "df_ddr = pd.read_csv(data_DDR)"
      ],
      "metadata": {
        "id": "mQ5qDo6hhXIA"
      },
      "execution_count": null,
      "outputs": []
    },
    {
      "cell_type": "markdown",
      "source": [
        "## KMeans Clustering"
      ],
      "metadata": {
        "id": "PEoVntIaZOGR"
      }
    },
    {
      "cell_type": "code",
      "source": [
        "def load_data(df):\n",
        "  df2 = df.copy()\n",
        "  y = df2['Unnamed: 0']\n",
        "  cols = df2.columns\n",
        "  ms = MinMaxScaler()\n",
        "  X = ms.fit_transform(df2)\n",
        "  X = pd.DataFrame(X, columns=[cols])\n",
        "  return df2,y,X\n",
        "\n",
        "def k_means_elbow_method(X,title):\n",
        "  cs = []\n",
        "  for i in range(1, 50):\n",
        "      kmeans = KMeans(n_clusters = i, init = 'k-means++', max_iter = 300, n_init = 10, random_state = 0)\n",
        "      kmeans.fit(X)\n",
        "      cs.append(kmeans.inertia_)\n",
        "  plt.plot(range(1, 50), cs)\n",
        "  plt.title('The Elbow Method '+title)\n",
        "  plt.xlabel('Number of clusters')\n",
        "  plt.ylabel('CS')\n",
        "  plt.show()\n",
        "\n",
        "def k_means_clustering(nclusters,X):\n",
        "  kmeans = KMeans(n_clusters=nclusters, random_state=0) \n",
        "  kmeans.fit(X)\n",
        "  kmeans.cluster_centers_\n",
        "  print(kmeans.inertia_)\n",
        "  return kmeans.labels_\n",
        "\n",
        "def make_df(labels,y,name):\n",
        "  df = pd.DataFrame({'node-value':y, 'cluster-label':labels})\n",
        "  #df['drug'] = df2['nodes']\n",
        "  df = df.sort_values('cluster-label')\n",
        "  fileName = 'data/HC-128-16' + name\n",
        "  df.to_csv(fileName)\n",
        "  return df"
      ],
      "metadata": {
        "id": "qjr7XRN9QcVB"
      },
      "execution_count": null,
      "outputs": []
    },
    {
      "cell_type": "code",
      "source": [
        "df_ddr,y_ddr,X_ddr = load_data(df_ddr)\n",
        "k_means_elbow_method(X_ddr,'DDR')"
      ],
      "metadata": {
        "colab": {
          "base_uri": "https://localhost:8080/",
          "height": 295
        },
        "id": "F7t76DlEhoUF",
        "outputId": "2217d12f-d4eb-436b-fbf3-405c4fa3c7eb"
      },
      "execution_count": null,
      "outputs": [
        {
          "output_type": "display_data",
          "data": {
            "text/plain": [
              "<Figure size 432x288 with 1 Axes>"
            ],
            "image/png": "[encoded data removed]"
          },
          "metadata": {
            "needs_background": "light"
          }
        }
      ]
    },
    {
      "cell_type": "code",
      "source": [
        "label_ddr = k_means_clustering(8,X_ddr)\n",
        "print(metrics.silhouette_score(X_ddr,label_ddr, metric='euclidean'))"
      ],
      "metadata": {
        "colab": {
          "base_uri": "https://localhost:8080/"
        },
        "id": "LygtBeZYiHLy",
        "outputId": "d1927b7c-2c38-42e8-da4f-4daa2b511014"
      },
      "execution_count": null,
      "outputs": [
        {
          "output_type": "stream",
          "name": "stdout",
          "text": [
            "78.40398876103909\n",
            "0.3514450082567071\n"
          ]
        }
      ]
    },
    {
      "cell_type": "code",
      "source": [
        "df_new_ddr = make_df(label_ddr,y_ddr,'-KM.csv')"
      ],
      "metadata": {
        "id": "-Qu7vMDciPhB"
      },
      "execution_count": null,
      "outputs": []
    },
    {
      "cell_type": "code",
      "source": [
        "print(\"DDR\")\n",
        "cm = sns.light_palette(\"seagreen\", as_cmap=True)\n",
        "df_new_ddr[\"cluster-label\"].value_counts(dropna=False).to_frame().style.background_gradient(cmap=cm)"
      ],
      "metadata": {
        "id": "LSkcVQI1idFv"
      },
      "execution_count": null,
      "outputs": []
    },
    {
      "cell_type": "markdown",
      "source": [
        "## Hierarchial Clustering "
      ],
      "metadata": {
        "id": "U9z_C58YUuik"
      }
    },
    {
      "cell_type": "code",
      "source": [
        "y = df_ddr['Unnamed: 0']\n",
        "X_ddr_aglo = df_ddr.drop('Unnamed: 0',axis=1)"
      ],
      "metadata": {
        "id": "P7MnqNbJROmv"
      },
      "execution_count": null,
      "outputs": []
    },
    {
      "cell_type": "code",
      "source": [
        "import scipy.cluster.hierarchy as sch # importing scipy.cluster.hierarchy for dendrogram\n",
        "dist_mat = sch.linkage(X_ddr_aglo, method = 'complete',metric='euclidean')\n",
        "dendrogram = sch.dendrogram(dist_mat) # finding the optimal number of clusters using dendrogram\n",
        "plt.title('Dendrogram') # title of the dendrogram\n",
        "plt.xlabel('Drugs') # label of the x-axis\n",
        "plt.ylabel('Euclidean distances') # label of the y-axis\n",
        "plt.show() # show the dendrogram"
      ],
      "metadata": {
        "colab": {
          "base_uri": "https://localhost:8080/",
          "height": 295
        },
        "id": "qgvkUhusU5pi",
        "outputId": "03373074-c291-4774-ae9b-e963b7d2947a"
      },
      "execution_count": null,
      "outputs": [
        {
          "output_type": "display_data",
          "data": {
            "text/plain": [
              "<Figure size 432x288 with 1 Axes>"
            ],
            "image/png": "[encoded data removed]"
          },
          "metadata": {
            "needs_background": "light"
          }
        }
      ]
    },
    {
      "cell_type": "code",
      "source": [
        "from sklearn.cluster import AgglomerativeClustering\n",
        "clustering_model = AgglomerativeClustering(n_clusters=10, affinity='euclidean', linkage='ward')\n",
        "clustering_model.fit(X_ddr_aglo)\n",
        "print(metrics.silhouette_score(X_ddr_aglo,clustering_model.labels_, metric='euclidean'))"
      ],
      "metadata": {
        "colab": {
          "base_uri": "https://localhost:8080/"
        },
        "id": "E7-EqlDgVEtK",
        "outputId": "aad0167d-59c9-4c83-a795-1510186442e0"
      },
      "execution_count": null,
      "outputs": [
        {
          "output_type": "stream",
          "name": "stdout",
          "text": [
            "0.473135532677641\n"
          ]
        }
      ]
    },
    {
      "cell_type": "code",
      "source": [
        "df_agglo = pd.DataFrame({'node-value':y, 'cluster-label':clustering_model.labels_})\n",
        "df_agglo = df_agglo.sort_values('cluster-label')\n",
        "fileName = 'data/HC-128-16-final-HC.csv'\n",
        "df_agglo.to_csv(fileName)"
      ],
      "metadata": {
        "id": "7pY0NacPOipx"
      },
      "execution_count": null,
      "outputs": []
    },
    {
      "cell_type": "code",
      "source": [
        "cm = sns.light_palette(\"seagreen\", as_cmap=True)\n",
        "df_agglo[\"cluster-label\"].value_counts(dropna=False).to_frame().style.background_gradient(cmap=cm)"
      ],
      "metadata": {
        "id": "vOutAnYEWLJV"
      },
      "execution_count": null,
      "outputs": []
    },
    {
      "cell_type": "code",
      "source": [
        "import numpy as np\n",
        "import pandas as pd\n",
        "import matplotlib.pyplot as plt\n",
        "import seaborn as sns\n",
        "%matplotlib inline\n",
        "from sklearn.preprocessing import LabelEncoder\n",
        "import warnings\n",
        "from sklearn.preprocessing import MinMaxScaler\n",
        "from sklearn.cluster import KMeans\n",
        "from scipy.spatial.distance import pdist, squareform\n",
        "import scipy\n",
        "from scipy.sparse import csgraph\n",
        "from numpy import linalg as LA\n",
        "import scipy.cluster.hierarchy as sch\n",
        "from sklearn import metrics\n",
        "from sklearn.cluster import AgglomerativeClustering\n",
        "from sklearn.cluster import SpectralClustering, AffinityPropagation\n",
        "warnings.filterwarnings('ignore')"
      ],
      "metadata": {
        "id": "X_Fssfj6V52X"
      },
      "execution_count": null,
      "outputs": []
    },
    {
      "cell_type": "code",
      "source": [
        "def getAffinityMatrix(coordinates, k = 7):\n",
        "    \"\"\"\n",
        "    Calculate affinity matrix based on input coordinates matrix and the numeber\n",
        "    of nearest neighbours.\n",
        "    \n",
        "    Apply local scaling based on the k nearest neighbour\n",
        "        References:\n",
        "    https://papers.nips.cc/paper/2619-self-tuning-spectral-clustering.pdf\n",
        "    \"\"\"\n",
        "    # calculate euclidian distance matrix\n",
        "    dists = squareform(pdist(coordinates)) \n",
        "    \n",
        "    # for each row, sort the distances ascendingly and take the index of the \n",
        "    #k-th position (nearest neighbour)\n",
        "    knn_distances = np.sort(dists, axis=0)[k]\n",
        "    knn_distances = knn_distances[np.newaxis].T\n",
        "    \n",
        "    # calculate sigma_i * sigma_j\n",
        "    local_scale = knn_distances.dot(knn_distances.T)\n",
        "\n",
        "    affinity_matrix = dists * dists\n",
        "    affinity_matrix = -affinity_matrix / local_scale\n",
        "    # divide square distance matrix by local scale\n",
        "    affinity_matrix[np.where(np.isnan(affinity_matrix))] = 0.0\n",
        "    # apply exponential\n",
        "    affinity_matrix = np.exp(affinity_matrix)\n",
        "    np.fill_diagonal(affinity_matrix, 0)\n",
        "    return affinity_matrix\n",
        "\n",
        "def eigenDecomposition(A, plot = True, topK = 5):\n",
        "    \"\"\"\n",
        "    :param A: Affinity matrix\n",
        "    :param plot: plots the sorted eigen values for visual inspection\n",
        "    :return A tuple containing:\n",
        "    - the optimal number of clusters by eigengap heuristic\n",
        "    - all eigen values\n",
        "    - all eigen vectors\n",
        "    \n",
        "    This method performs the eigen decomposition on a given affinity matrix,\n",
        "    following the steps recommended in the paper:\n",
        "    1. Construct the normalized affinity matrix: L = D−1/2ADˆ −1/2.\n",
        "    2. Find the eigenvalues and their associated eigen vectors\n",
        "    3. Identify the maximum gap which corresponds to the number of clusters\n",
        "    by eigengap heuristic\n",
        "    \n",
        "    References:\n",
        "    https://papers.nips.cc/paper/2619-self-tuning-spectral-clustering.pdf\n",
        "    http://www.kyb.mpg.de/fileadmin/user_upload/files/publications/attachments/Luxburg07_tutorial_4488%5b0%5d.pdf\n",
        "    \"\"\"\n",
        "    L = csgraph.laplacian(A, normed=True)\n",
        "    n_components = A.shape[0]\n",
        "    \n",
        "    # LM parameter : Eigenvalues with largest magnitude (eigs, eigsh), that is, largest eigenvalues in \n",
        "    # the euclidean norm of complex numbers.\n",
        "#     eigenvalues, eigenvectors = eigsh(L, k=n_components, which=\"LM\", sigma=1.0, maxiter=5000)\n",
        "    eigenvalues, eigenvectors = LA.eig(L)\n",
        "    \n",
        "    if plot:\n",
        "        plt.title('Largest eigen values of input matrix')\n",
        "        plt.scatter(np.arange(len(eigenvalues)), eigenvalues)\n",
        "        plt.grid()\n",
        "        \n",
        "    # Identify the optimal number of clusters as the index corresponding\n",
        "    # to the larger gap between eigen values\n",
        "    index_largest_gap = np.argsort(np.diff(eigenvalues))[::-1][:topK]\n",
        "    nb_clusters = index_largest_gap + 1\n",
        "        \n",
        "    return nb_clusters, eigenvalues, eigenvectors"
      ],
      "metadata": {
        "id": "EHluvAOxjVnu"
      },
      "execution_count": null,
      "outputs": []
    },
    {
      "cell_type": "code",
      "source": [
        "y = df_ddr['Unnamed: 0']\n",
        "X_ddr_aglo = df_ddr.drop('Unnamed: 0',axis=1)"
      ],
      "metadata": {
        "id": "BOMhUDi2V6W_"
      },
      "execution_count": null,
      "outputs": []
    },
    {
      "cell_type": "code",
      "source": [
        "affinity_matrix_moa = getAffinityMatrix(X_ddr_aglo, k = 7)\n",
        "k, _,  _ = eigenDecomposition(affinity_matrix_moa)\n",
        "print(f'Optimal number of clusters {k}')"
      ],
      "metadata": {
        "colab": {
          "base_uri": "https://localhost:8080/",
          "height": 299
        },
        "id": "fJwt9h-_WD_w",
        "outputId": "8259dfcc-0a2c-49dd-c105-52e11b19c645"
      },
      "execution_count": null,
      "outputs": [
        {
          "output_type": "stream",
          "name": "stdout",
          "text": [
            "Optimal number of clusters [34 37 42 54 63]\n"
          ]
        },
        {
          "output_type": "display_data",
          "data": {
            "text/plain": [
              "<Figure size 432x288 with 1 Axes>"
            ],
            "image/png": "[encoded data removed]"
          },
          "metadata": {
            "needs_background": "light"
          }
        }
      ]
    },
    {
      "cell_type": "code",
      "source": [
        "clustering = SpectralClustering(n_clusters=34, assign_labels=\"discretize\", random_state=0).fit(X_ddr_aglo)\n",
        "y_pred = clustering.labels_\n",
        "print('silhouette_score')\n",
        "print(metrics.silhouette_score(X_ddr_aglo,y_pred, metric='euclidean'))\n",
        "df_new_ddr = make_df(y_pred,y,'-SC.csv')"
      ],
      "metadata": {
        "colab": {
          "base_uri": "https://localhost:8080/"
        },
        "id": "bI_R49sEWJeh",
        "outputId": "ca22df2e-8e6e-441d-854b-7a5279c2738e"
      },
      "execution_count": null,
      "outputs": [
        {
          "output_type": "stream",
          "name": "stdout",
          "text": [
            "silhouette_score\n",
            "0.4615118387627958\n"
          ]
        }
      ]
    },
    {
      "cell_type": "code",
      "source": [
        "cm = sns.light_palette(\"seagreen\", as_cmap=True)\n",
        "df_new_ddr[\"cluster-label\"].value_counts(dropna=False).to_frame().style.background_gradient(cmap=cm)"
      ],
      "metadata": {
        "id": "T9H5ypVCWswZ"
      },
      "execution_count": null,
      "outputs": []
    },
    {
      "cell_type": "code",
      "source": [],
      "metadata": {
        "id": "h5zHcZU8jrvA"
      },
      "execution_count": null,
      "outputs": []
    }
  ]
}
