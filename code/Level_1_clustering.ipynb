{
  "nbformat": 4,
  "nbformat_minor": 0,
  "metadata": {
    "colab": {
      "provenance": [],
      "collapsed_sections": []
    },
    "kernelspec": {
      "name": "python3",
      "display_name": "Python 3"
    },
    "language_info": {
      "name": "python"
    }
  },
  "cells": [
    {
      "cell_type": "code",
      "execution_count": null,
      "metadata": {
        "colab": {
          "base_uri": "https://localhost:8080/"
        },
        "id": "f84W3mOaefR2",
        "outputId": "15b0f488-080e-478f-fc36-6f5842026e81"
      },
      "outputs": [
        {
          "output_type": "stream",
          "name": "stdout",
          "text": [
            "Mounted at /content/drive\n"
          ]
        }
      ],
      "source": [
        "from google.colab import drive\n",
        "drive.mount('/content/drive')"
      ]
    },
    {
      "cell_type": "markdown",
      "source": [
        "## Load required libraries"
      ],
      "metadata": {
        "id": "ZGf05ciXj3pm"
      }
    },
    {
      "cell_type": "code",
      "source": [
        "import numpy as np\n",
        "import pandas as pd\n",
        "import matplotlib.pyplot as plt\n",
        "import seaborn as sns\n",
        "%matplotlib inline\n",
        "from sklearn.preprocessing import LabelEncoder\n",
        "import warnings\n",
        "from sklearn.preprocessing import MinMaxScaler\n",
        "from sklearn.cluster import KMeans\n",
        "\n",
        "warnings.filterwarnings('ignore')"
      ],
      "metadata": {
        "id": "D4HUf_DveoyU"
      },
      "execution_count": null,
      "outputs": []
    },
    {
      "cell_type": "markdown",
      "source": [
        "## Load directed adjacency matrices for different heterogenous relations "
      ],
      "metadata": {
        "id": "Nnjuzqh3j679"
      }
    },
    {
      "cell_type": "code",
      "source": [
        "drug_moa_df = pd.read_csv('/content/drive/MyDrive/Thesis_5_1/data/directed matrices/drug-MOA-adj.csv')\n",
        "drug_contraindication_df = pd.read_csv('/content/drive/MyDrive/Thesis_5_1/data/directed matrices/drug-contraindication-adj.csv')\n",
        "drug_drug_intraction_df = pd.read_csv('/content/drive/MyDrive/Thesis_5_1/data/directed matrices/drug-drug-interaction-adj.csv')\n",
        "drug_indication_df = pd.read_csv('/content/drive/MyDrive/Thesis_5_1/data/directed matrices/drug-indication-adj.csv')\n",
        "drug_pathway_df = pd.read_csv('/content/drive/MyDrive/Thesis_5_1/data/directed matrices/drug-pathway-adj.csv')\n",
        "drug_target_df = pd.read_csv('/content/drive/MyDrive/Thesis_5_1/data/directed matrices/drug-target-adj.csv')\n",
        "drug_df = pd.read_csv('/content/drive/MyDrive/Thesis_5_1/data/drug-nodes.csv')"
      ],
      "metadata": {
        "id": "UyhSM-g_fJg4"
      },
      "execution_count": null,
      "outputs": []
    },
    {
      "cell_type": "markdown",
      "source": [
        "## Functions for formatting the data, elbow method & clustering\n"
      ],
      "metadata": {
        "id": "MQzmo47Tjoi1"
      }
    },
    {
      "cell_type": "code",
      "source": [
        "def load_data(df_org):\n",
        "  df = df_org.copy()\n",
        "  le = LabelEncoder()\n",
        "  y = df['Name']\n",
        "  df['Name'] = le.fit_transform(df['Name'])\n",
        "  y = le.transform(y)\n",
        "  cols = df.columns\n",
        "  ms = MinMaxScaler()\n",
        "  X = ms.fit_transform(df)\n",
        "  X = pd.DataFrame(X, columns=[cols])\n",
        "  return df,y,X"
      ],
      "metadata": {
        "id": "cEpfFiAUf4xK"
      },
      "execution_count": null,
      "outputs": []
    },
    {
      "cell_type": "code",
      "source": [
        "def k_means_elbow_method(X,title):\n",
        "  cs = []\n",
        "  for i in range(1,100):\n",
        "      kmeans = KMeans(n_clusters = i, init = 'k-means++', max_iter = 300, n_init = 10, random_state = 0)\n",
        "      kmeans.fit(X)\n",
        "      cs.append(kmeans.inertia_)\n",
        "  plt.plot(range(1,100), cs)\n",
        "  plt.title('The Elbow Method '+title)\n",
        "  plt.xlabel('Number of clusters')\n",
        "  plt.ylabel('CS')\n",
        "  plt.show()"
      ],
      "metadata": {
        "id": "HY9TzENogOMB"
      },
      "execution_count": null,
      "outputs": []
    },
    {
      "cell_type": "code",
      "source": [
        "def k_means_clustering(nclusters,X):\n",
        "  kmeans = KMeans(n_clusters=nclusters, random_state=0) \n",
        "  kmeans.fit(X)\n",
        "  kmeans.cluster_centers_\n",
        "  print(kmeans.inertia_)\n",
        "  return kmeans.labels_"
      ],
      "metadata": {
        "id": "U26gaZTvkKxS"
      },
      "execution_count": null,
      "outputs": []
    },
    {
      "cell_type": "code",
      "source": [
        "def make_df(labels,y,name,df_org):\n",
        "  df = pd.DataFrame({'node-value':y, 'cluster-label':labels})\n",
        "  df['drug'] = df_org['Name']\n",
        "  df = df.sort_values('cluster-label')\n",
        "  fileName = '/content/drive/MyDrive/Thesis_5_1/data/Level 1 clustering/' + name\n",
        "  df.to_csv(fileName)\n",
        "  return df"
      ],
      "metadata": {
        "id": "2uvjOcBAkgPE"
      },
      "execution_count": null,
      "outputs": []
    },
    {
      "cell_type": "code",
      "source": [
        "def complete_df(df,drug_full,name):\n",
        "  df = df.drop('node-value', axis=1)\n",
        "  drug_subset = df['drug'].tolist()\n",
        "  missing_drug = list(set(drug_full)-set(drug_subset))\n",
        "  xtra = {'drug': missing_drug}\n",
        "  df = df.append(pd.DataFrame(xtra))\n",
        "  fileName = '/content/drive/MyDrive/Thesis_5_1/data/L1 intermediate DDR results/' + name\n",
        "  df.to_csv(fileName)\n",
        "  return df"
      ],
      "metadata": {
        "id": "V1nAcBA50xZT"
      },
      "execution_count": null,
      "outputs": []
    },
    {
      "cell_type": "code",
      "source": [
        "drug_full = drug_df['Name'].tolist()"
      ],
      "metadata": {
        "id": "jx5wlF_y1aY1"
      },
      "execution_count": null,
      "outputs": []
    },
    {
      "cell_type": "markdown",
      "source": [
        "## Clusters for relation: Drug-MOA"
      ],
      "metadata": {
        "id": "vyJ1N3VEjQ53"
      }
    },
    {
      "cell_type": "code",
      "source": [
        "df_drug_moa,y_drug_moa,X_drug_moa = load_data(drug_moa_df)\n",
        "k_means_elbow_method(X_drug_moa,'Drug-MOA')\n",
        "# 30 seems appropriate "
      ],
      "metadata": {
        "colab": {
          "base_uri": "https://localhost:8080/",
          "height": 295
        },
        "id": "bK6p8jF3gTB9",
        "outputId": "88ec4eb0-1052-4537-ee88-9652cc17a592"
      },
      "execution_count": null,
      "outputs": [
        {
          "output_type": "display_data",
          "data": {
            "text/plain": [
              "<Figure size 432x288 with 1 Axes>"
            ],
            "image/png": "[encoded data removed]"
          },
          "metadata": {
            "needs_background": "light"
          }
        }
      ]
    },
    {
      "cell_type": "code",
      "source": [
        "label_drug_moa = k_means_clustering(20,X_drug_moa)\n",
        "df_new_drug_moa = make_df(label_drug_moa,y_drug_moa,'Drug-MOA.csv',drug_moa_df)\n",
        "print(\"Drug-MOA\")\n",
        "cm = sns.light_palette(\"seagreen\", as_cmap=True)\n",
        "df_new_drug_moa[\"cluster-label\"].value_counts(dropna=False).to_frame().style.background_gradient(cmap=cm)"
      ],
      "metadata": {
        "colab": {
          "base_uri": "https://localhost:8080/",
          "height": 712
        },
        "id": "NH1v5VO6jXqf",
        "outputId": "93fff44d-17e4-414e-e2e4-e6e9c6132e4d"
      },
      "execution_count": null,
      "outputs": [
        {
          "output_type": "stream",
          "name": "stdout",
          "text": [
            "118.96978066927562\n",
            "Drug-MOA\n"
          ]
        },
        {
          "output_type": "execute_result",
          "data": {
            "text/plain": [
              "<pandas.io.formats.style.Styler at 0x7fedbbfc7650>"
            ],
            "text/html": [
              "<style type=\"text/css\">\n",
              "#T_23942_row0_col0 {\n",
              "  background-color: #2e8b57;\n",
              "  color: #f1f1f1;\n",
              "}\n",
              "#T_23942_row1_col0, #T_23942_row2_col0 {\n",
              "  background-color: #6bac87;\n",
              "  color: #f1f1f1;\n",
              "}\n",
              "#T_23942_row3_col0 {\n",
              "  background-color: #a2cab3;\n",
              "  color: #000000;\n",
              "}\n",
              "#T_23942_row4_col0 {\n",
              "  background-color: #a8ceb8;\n",
              "  color: #000000;\n",
              "}\n",
              "#T_23942_row5_col0 {\n",
              "  background-color: #b4d5c2;\n",
              "  color: #000000;\n",
              "}\n",
              "#T_23942_row6_col0, #T_23942_row7_col0, #T_23942_row8_col0 {\n",
              "  background-color: #c1dbcc;\n",
              "  color: #000000;\n",
              "}\n",
              "#T_23942_row9_col0, #T_23942_row10_col0 {\n",
              "  background-color: #c7dfd0;\n",
              "  color: #000000;\n",
              "}\n",
              "#T_23942_row11_col0, #T_23942_row12_col0 {\n",
              "  background-color: #cde2d5;\n",
              "  color: #000000;\n",
              "}\n",
              "#T_23942_row13_col0, #T_23942_row14_col0 {\n",
              "  background-color: #d3e5da;\n",
              "  color: #000000;\n",
              "}\n",
              "#T_23942_row15_col0, #T_23942_row16_col0, #T_23942_row17_col0 {\n",
              "  background-color: #d9e9df;\n",
              "  color: #000000;\n",
              "}\n",
              "#T_23942_row18_col0, #T_23942_row19_col0 {\n",
              "  background-color: #ebf3ed;\n",
              "  color: #000000;\n",
              "}\n",
              "</style>\n",
              "<table id=\"T_23942_\" class=\"dataframe\">\n",
              "  <thead>\n",
              "    <tr>\n",
              "      <th class=\"blank level0\" >&nbsp;</th>\n",
              "      <th class=\"col_heading level0 col0\" >cluster-label</th>\n",
              "    </tr>\n",
              "  </thead>\n",
              "  <tbody>\n",
              "    <tr>\n",
              "      <th id=\"T_23942_level0_row0\" class=\"row_heading level0 row0\" >18</th>\n",
              "      <td id=\"T_23942_row0_col0\" class=\"data row0 col0\" >32</td>\n",
              "    </tr>\n",
              "    <tr>\n",
              "      <th id=\"T_23942_level0_row1\" class=\"row_heading level0 row1\" >2</th>\n",
              "      <td id=\"T_23942_row1_col0\" class=\"data row1 col0\" >22</td>\n",
              "    </tr>\n",
              "    <tr>\n",
              "      <th id=\"T_23942_level0_row2\" class=\"row_heading level0 row2\" >16</th>\n",
              "      <td id=\"T_23942_row2_col0\" class=\"data row2 col0\" >22</td>\n",
              "    </tr>\n",
              "    <tr>\n",
              "      <th id=\"T_23942_level0_row3\" class=\"row_heading level0 row3\" >11</th>\n",
              "      <td id=\"T_23942_row3_col0\" class=\"data row3 col0\" >13</td>\n",
              "    </tr>\n",
              "    <tr>\n",
              "      <th id=\"T_23942_level0_row4\" class=\"row_heading level0 row4\" >8</th>\n",
              "      <td id=\"T_23942_row4_col0\" class=\"data row4 col0\" >12</td>\n",
              "    </tr>\n",
              "    <tr>\n",
              "      <th id=\"T_23942_level0_row5\" class=\"row_heading level0 row5\" >10</th>\n",
              "      <td id=\"T_23942_row5_col0\" class=\"data row5 col0\" >10</td>\n",
              "    </tr>\n",
              "    <tr>\n",
              "      <th id=\"T_23942_level0_row6\" class=\"row_heading level0 row6\" >4</th>\n",
              "      <td id=\"T_23942_row6_col0\" class=\"data row6 col0\" >8</td>\n",
              "    </tr>\n",
              "    <tr>\n",
              "      <th id=\"T_23942_level0_row7\" class=\"row_heading level0 row7\" >7</th>\n",
              "      <td id=\"T_23942_row7_col0\" class=\"data row7 col0\" >8</td>\n",
              "    </tr>\n",
              "    <tr>\n",
              "      <th id=\"T_23942_level0_row8\" class=\"row_heading level0 row8\" >15</th>\n",
              "      <td id=\"T_23942_row8_col0\" class=\"data row8 col0\" >8</td>\n",
              "    </tr>\n",
              "    <tr>\n",
              "      <th id=\"T_23942_level0_row9\" class=\"row_heading level0 row9\" >13</th>\n",
              "      <td id=\"T_23942_row9_col0\" class=\"data row9 col0\" >7</td>\n",
              "    </tr>\n",
              "    <tr>\n",
              "      <th id=\"T_23942_level0_row10\" class=\"row_heading level0 row10\" >6</th>\n",
              "      <td id=\"T_23942_row10_col0\" class=\"data row10 col0\" >7</td>\n",
              "    </tr>\n",
              "    <tr>\n",
              "      <th id=\"T_23942_level0_row11\" class=\"row_heading level0 row11\" >17</th>\n",
              "      <td id=\"T_23942_row11_col0\" class=\"data row11 col0\" >6</td>\n",
              "    </tr>\n",
              "    <tr>\n",
              "      <th id=\"T_23942_level0_row12\" class=\"row_heading level0 row12\" >0</th>\n",
              "      <td id=\"T_23942_row12_col0\" class=\"data row12 col0\" >6</td>\n",
              "    </tr>\n",
              "    <tr>\n",
              "      <th id=\"T_23942_level0_row13\" class=\"row_heading level0 row13\" >9</th>\n",
              "      <td id=\"T_23942_row13_col0\" class=\"data row13 col0\" >5</td>\n",
              "    </tr>\n",
              "    <tr>\n",
              "      <th id=\"T_23942_level0_row14\" class=\"row_heading level0 row14\" >5</th>\n",
              "      <td id=\"T_23942_row14_col0\" class=\"data row14 col0\" >5</td>\n",
              "    </tr>\n",
              "    <tr>\n",
              "      <th id=\"T_23942_level0_row15\" class=\"row_heading level0 row15\" >1</th>\n",
              "      <td id=\"T_23942_row15_col0\" class=\"data row15 col0\" >4</td>\n",
              "    </tr>\n",
              "    <tr>\n",
              "      <th id=\"T_23942_level0_row16\" class=\"row_heading level0 row16\" >3</th>\n",
              "      <td id=\"T_23942_row16_col0\" class=\"data row16 col0\" >4</td>\n",
              "    </tr>\n",
              "    <tr>\n",
              "      <th id=\"T_23942_level0_row17\" class=\"row_heading level0 row17\" >19</th>\n",
              "      <td id=\"T_23942_row17_col0\" class=\"data row17 col0\" >4</td>\n",
              "    </tr>\n",
              "    <tr>\n",
              "      <th id=\"T_23942_level0_row18\" class=\"row_heading level0 row18\" >12</th>\n",
              "      <td id=\"T_23942_row18_col0\" class=\"data row18 col0\" >1</td>\n",
              "    </tr>\n",
              "    <tr>\n",
              "      <th id=\"T_23942_level0_row19\" class=\"row_heading level0 row19\" >14</th>\n",
              "      <td id=\"T_23942_row19_col0\" class=\"data row19 col0\" >1</td>\n",
              "    </tr>\n",
              "  </tbody>\n",
              "</table>\n"
            ]
          },
          "metadata": {},
          "execution_count": 104
        }
      ]
    },
    {
      "cell_type": "code",
      "source": [
        "type(label_drug_moa)"
      ],
      "metadata": {
        "colab": {
          "base_uri": "https://localhost:8080/"
        },
        "id": "eYwPHey399_H",
        "outputId": "e8208e20-1b76-4225-a8a9-ba6ba15cf68c"
      },
      "execution_count": null,
      "outputs": [
        {
          "output_type": "execute_result",
          "data": {
            "text/plain": [
              "numpy.ndarray"
            ]
          },
          "metadata": {},
          "execution_count": 113
        }
      ]
    },
    {
      "cell_type": "code",
      "source": [
        "complete_df(df_new_drug_moa,drug_full,'Drug-MOA.csv')"
      ],
      "metadata": {
        "id": "Lq3cwbFk1lF2"
      },
      "execution_count": null,
      "outputs": []
    },
    {
      "cell_type": "markdown",
      "source": [
        "## Clusters for relation: Drug-Contraindication"
      ],
      "metadata": {
        "id": "BtU4NvV0pKFR"
      }
    },
    {
      "cell_type": "code",
      "source": [
        "df_drug_contraindication,y_drug_contraindication,X_drug_contraindication = load_data(drug_contraindication_df)\n",
        "k_means_elbow_method(X_drug_contraindication,'Drug-Contraindication')\n",
        "# 30 seems appropriate "
      ],
      "metadata": {
        "colab": {
          "base_uri": "https://localhost:8080/",
          "height": 295
        },
        "id": "DSLkPj5Lggzf",
        "outputId": "b5044516-6682-4d2d-b3ff-057c2d5d532f"
      },
      "execution_count": null,
      "outputs": [
        {
          "output_type": "display_data",
          "data": {
            "text/plain": [
              "<Figure size 432x288 with 1 Axes>"
            ],
            "image/png": "[encoded data removed]"
          },
          "metadata": {
            "needs_background": "light"
          }
        }
      ]
    },
    {
      "cell_type": "code",
      "source": [
        "label_drug_contraindication = k_means_clustering(5,X_drug_contraindication)\n",
        "df_new_drug_contraindication = make_df(label_drug_contraindication,y_drug_contraindication,'Drug-Contraindication.csv',drug_contraindication_df)\n",
        "print(\"Drug-Contraindication\")\n",
        "cm = sns.light_palette(\"seagreen\", as_cmap=True)\n",
        "df_new_drug_contraindication[\"cluster-label\"].value_counts(dropna=False).to_frame().style.background_gradient(cmap=cm)"
      ],
      "metadata": {
        "colab": {
          "base_uri": "https://localhost:8080/",
          "height": 242
        },
        "id": "hKgNEwFkl7dd",
        "outputId": "30784214-0872-4b42-e62f-6642336c5424"
      },
      "execution_count": null,
      "outputs": [
        {
          "output_type": "stream",
          "name": "stdout",
          "text": [
            "177.14515939695207\n",
            "Drug-Contraindication\n"
          ]
        },
        {
          "output_type": "execute_result",
          "data": {
            "text/plain": [
              "<pandas.io.formats.style.Styler at 0x7fedbc281790>"
            ],
            "text/html": [
              "<style type=\"text/css\">\n",
              "#T_daf5e_row0_col0 {\n",
              "  background-color: #2e8b57;\n",
              "  color: #f1f1f1;\n",
              "}\n",
              "#T_daf5e_row1_col0 {\n",
              "  background-color: #a8ceb8;\n",
              "  color: #000000;\n",
              "}\n",
              "#T_daf5e_row2_col0, #T_daf5e_row3_col0, #T_daf5e_row4_col0 {\n",
              "  background-color: #ebf3ed;\n",
              "  color: #000000;\n",
              "}\n",
              "</style>\n",
              "<table id=\"T_daf5e_\" class=\"dataframe\">\n",
              "  <thead>\n",
              "    <tr>\n",
              "      <th class=\"blank level0\" >&nbsp;</th>\n",
              "      <th class=\"col_heading level0 col0\" >cluster-label</th>\n",
              "    </tr>\n",
              "  </thead>\n",
              "  <tbody>\n",
              "    <tr>\n",
              "      <th id=\"T_daf5e_level0_row0\" class=\"row_heading level0 row0\" >0</th>\n",
              "      <td id=\"T_daf5e_row0_col0\" class=\"data row0 col0\" >100</td>\n",
              "    </tr>\n",
              "    <tr>\n",
              "      <th id=\"T_daf5e_level0_row1\" class=\"row_heading level0 row1\" >4</th>\n",
              "      <td id=\"T_daf5e_row1_col0\" class=\"data row1 col0\" >36</td>\n",
              "    </tr>\n",
              "    <tr>\n",
              "      <th id=\"T_daf5e_level0_row2\" class=\"row_heading level0 row2\" >1</th>\n",
              "      <td id=\"T_daf5e_row2_col0\" class=\"data row2 col0\" >1</td>\n",
              "    </tr>\n",
              "    <tr>\n",
              "      <th id=\"T_daf5e_level0_row3\" class=\"row_heading level0 row3\" >2</th>\n",
              "      <td id=\"T_daf5e_row3_col0\" class=\"data row3 col0\" >1</td>\n",
              "    </tr>\n",
              "    <tr>\n",
              "      <th id=\"T_daf5e_level0_row4\" class=\"row_heading level0 row4\" >3</th>\n",
              "      <td id=\"T_daf5e_row4_col0\" class=\"data row4 col0\" >1</td>\n",
              "    </tr>\n",
              "  </tbody>\n",
              "</table>\n"
            ]
          },
          "metadata": {},
          "execution_count": 93
        }
      ]
    },
    {
      "cell_type": "code",
      "source": [
        "complete_df(df_new_drug_contraindication,drug_full,'Drug-Contraindication.csv')"
      ],
      "metadata": {
        "id": "drKwuf_G1i-6"
      },
      "execution_count": null,
      "outputs": []
    },
    {
      "cell_type": "markdown",
      "source": [
        "## Clusters for relation: Drug-Drug-Interaction"
      ],
      "metadata": {
        "id": "CYarcBHdpYm6"
      }
    },
    {
      "cell_type": "code",
      "source": [
        "df_drug_drug_intraction,y_drug_drug_intraction,X_drug_drug_intraction = load_data(drug_drug_intraction_df)\n",
        "k_means_elbow_method(X_drug_drug_intraction,'Drug-Drug-Interaction')\n",
        "# 5 seems appropriate "
      ],
      "metadata": {
        "colab": {
          "base_uri": "https://localhost:8080/",
          "height": 295
        },
        "id": "u84F5tCNhZ0Y",
        "outputId": "dd926403-9452-4ce0-9cee-34b9fbeebc67"
      },
      "execution_count": null,
      "outputs": [
        {
          "output_type": "display_data",
          "data": {
            "text/plain": [
              "<Figure size 432x288 with 1 Axes>"
            ],
            "image/png": "[encoded data removed]"
          },
          "metadata": {
            "needs_background": "light"
          }
        }
      ]
    },
    {
      "cell_type": "code",
      "source": [
        "label_drug_drug_intraction = k_means_clustering(5,X_drug_drug_intraction)\n",
        "df_new_drug_drug_intraction = make_df(label_drug_drug_intraction,y_drug_drug_intraction,'Drug-Drug-Interaction.csv',drug_drug_intraction_df)\n",
        "print(\"Drug-Drug-Interaction\")\n",
        "cm = sns.light_palette(\"seagreen\", as_cmap=True)\n",
        "df_new_drug_drug_intraction[\"cluster-label\"].value_counts(dropna=False).to_frame().style.background_gradient(cmap=cm)"
      ],
      "metadata": {
        "colab": {
          "base_uri": "https://localhost:8080/",
          "height": 242
        },
        "id": "FAsCC5yFmSfD",
        "outputId": "feb2c004-e3bf-4214-c958-afe5293864da"
      },
      "execution_count": null,
      "outputs": [
        {
          "output_type": "stream",
          "name": "stdout",
          "text": [
            "247.11713142505386\n",
            "Drug-Drug-Interaction\n"
          ]
        },
        {
          "output_type": "execute_result",
          "data": {
            "text/plain": [
              "<pandas.io.formats.style.Styler at 0x7fedbf9e8450>"
            ],
            "text/html": [
              "<style type=\"text/css\">\n",
              "#T_55ddd_row0_col0 {\n",
              "  background-color: #2e8b57;\n",
              "  color: #f1f1f1;\n",
              "}\n",
              "#T_55ddd_row1_col0 {\n",
              "  background-color: #e4eee7;\n",
              "  color: #000000;\n",
              "}\n",
              "#T_55ddd_row2_col0, #T_55ddd_row3_col0 {\n",
              "  background-color: #e7f1ea;\n",
              "  color: #000000;\n",
              "}\n",
              "#T_55ddd_row4_col0 {\n",
              "  background-color: #ebf3ed;\n",
              "  color: #000000;\n",
              "}\n",
              "</style>\n",
              "<table id=\"T_55ddd_\" class=\"dataframe\">\n",
              "  <thead>\n",
              "    <tr>\n",
              "      <th class=\"blank level0\" >&nbsp;</th>\n",
              "      <th class=\"col_heading level0 col0\" >cluster-label</th>\n",
              "    </tr>\n",
              "  </thead>\n",
              "  <tbody>\n",
              "    <tr>\n",
              "      <th id=\"T_55ddd_level0_row0\" class=\"row_heading level0 row0\" >1</th>\n",
              "      <td id=\"T_55ddd_row0_col0\" class=\"data row0 col0\" >50</td>\n",
              "    </tr>\n",
              "    <tr>\n",
              "      <th id=\"T_55ddd_level0_row1\" class=\"row_heading level0 row1\" >2</th>\n",
              "      <td id=\"T_55ddd_row1_col0\" class=\"data row1 col0\" >3</td>\n",
              "    </tr>\n",
              "    <tr>\n",
              "      <th id=\"T_55ddd_level0_row2\" class=\"row_heading level0 row2\" >3</th>\n",
              "      <td id=\"T_55ddd_row2_col0\" class=\"data row2 col0\" >2</td>\n",
              "    </tr>\n",
              "    <tr>\n",
              "      <th id=\"T_55ddd_level0_row3\" class=\"row_heading level0 row3\" >4</th>\n",
              "      <td id=\"T_55ddd_row3_col0\" class=\"data row3 col0\" >2</td>\n",
              "    </tr>\n",
              "    <tr>\n",
              "      <th id=\"T_55ddd_level0_row4\" class=\"row_heading level0 row4\" >0</th>\n",
              "      <td id=\"T_55ddd_row4_col0\" class=\"data row4 col0\" >1</td>\n",
              "    </tr>\n",
              "  </tbody>\n",
              "</table>\n"
            ]
          },
          "metadata": {},
          "execution_count": 95
        }
      ]
    },
    {
      "cell_type": "code",
      "source": [
        "complete_df(df_new_drug_drug_intraction,drug_full,'Drug-Drug-Interaction.csv')"
      ],
      "metadata": {
        "id": "uPmlVeaz2FPb"
      },
      "execution_count": null,
      "outputs": []
    },
    {
      "cell_type": "markdown",
      "source": [
        "## Clusters for relation: Drug-Indication"
      ],
      "metadata": {
        "id": "D-whZaympaXW"
      }
    },
    {
      "cell_type": "code",
      "source": [
        "df_drug_indication,y_drug_indication,X_drug_indication = load_data(drug_indication_df)\n",
        "k_means_elbow_method(X_drug_indication,'Drug-Indication')\n",
        "# 20 seems appropriate "
      ],
      "metadata": {
        "colab": {
          "base_uri": "https://localhost:8080/",
          "height": 295
        },
        "id": "J12_FDJQiWJu",
        "outputId": "4b2f17ef-f48a-4deb-9d17-6b08b4f6e0aa"
      },
      "execution_count": null,
      "outputs": [
        {
          "output_type": "display_data",
          "data": {
            "text/plain": [
              "<Figure size 432x288 with 1 Axes>"
            ],
            "image/png": "[encoded data removed]"
          },
          "metadata": {
            "needs_background": "light"
          }
        }
      ]
    },
    {
      "cell_type": "code",
      "source": [
        "label_drug_indication = k_means_clustering(20,X_drug_indication)\n",
        "df_new_drug_indication = make_df(label_drug_indication,y_drug_indication,'Drug-Indication.csv',drug_indication_df)\n",
        "print(\"Drug-Indication\")\n",
        "cm = sns.light_palette(\"seagreen\", as_cmap=True)\n",
        "df_new_drug_indication[\"cluster-label\"].value_counts(dropna=False).to_frame().style.background_gradient(cmap=cm)"
      ],
      "metadata": {
        "colab": {
          "base_uri": "https://localhost:8080/",
          "height": 712
        },
        "id": "C30PlEqqmnZo",
        "outputId": "b6d91053-21cd-4e55-fb65-c7e3800f3945"
      },
      "execution_count": null,
      "outputs": [
        {
          "output_type": "stream",
          "name": "stdout",
          "text": [
            "149.8863409481063\n",
            "Drug-Indication\n"
          ]
        },
        {
          "output_type": "execute_result",
          "data": {
            "text/plain": [
              "<pandas.io.formats.style.Styler at 0x7fedbbc80990>"
            ],
            "text/html": [
              "<style type=\"text/css\">\n",
              "#T_547c2_row0_col0 {\n",
              "  background-color: #2e8b57;\n",
              "  color: #f1f1f1;\n",
              "}\n",
              "#T_547c2_row1_col0 {\n",
              "  background-color: #8cbfa2;\n",
              "  color: #000000;\n",
              "}\n",
              "#T_547c2_row2_col0, #T_547c2_row3_col0 {\n",
              "  background-color: #afd2bd;\n",
              "  color: #000000;\n",
              "}\n",
              "#T_547c2_row4_col0 {\n",
              "  background-color: #b8d7c5;\n",
              "  color: #000000;\n",
              "}\n",
              "#T_547c2_row5_col0 {\n",
              "  background-color: #c0dbcb;\n",
              "  color: #000000;\n",
              "}\n",
              "#T_547c2_row6_col0, #T_547c2_row7_col0, #T_547c2_row8_col0 {\n",
              "  background-color: #c9e0d2;\n",
              "  color: #000000;\n",
              "}\n",
              "#T_547c2_row9_col0, #T_547c2_row10_col0 {\n",
              "  background-color: #cde2d6;\n",
              "  color: #000000;\n",
              "}\n",
              "#T_547c2_row11_col0, #T_547c2_row12_col0, #T_547c2_row13_col0, #T_547c2_row14_col0 {\n",
              "  background-color: #d2e5d9;\n",
              "  color: #000000;\n",
              "}\n",
              "#T_547c2_row15_col0 {\n",
              "  background-color: #d5e7dc;\n",
              "  color: #000000;\n",
              "}\n",
              "#T_547c2_row16_col0 {\n",
              "  background-color: #dae9e0;\n",
              "  color: #000000;\n",
              "}\n",
              "#T_547c2_row17_col0 {\n",
              "  background-color: #deece3;\n",
              "  color: #000000;\n",
              "}\n",
              "#T_547c2_row18_col0 {\n",
              "  background-color: #e3eee7;\n",
              "  color: #000000;\n",
              "}\n",
              "#T_547c2_row19_col0 {\n",
              "  background-color: #ebf3ed;\n",
              "  color: #000000;\n",
              "}\n",
              "</style>\n",
              "<table id=\"T_547c2_\" class=\"dataframe\">\n",
              "  <thead>\n",
              "    <tr>\n",
              "      <th class=\"blank level0\" >&nbsp;</th>\n",
              "      <th class=\"col_heading level0 col0\" >cluster-label</th>\n",
              "    </tr>\n",
              "  </thead>\n",
              "  <tbody>\n",
              "    <tr>\n",
              "      <th id=\"T_547c2_level0_row0\" class=\"row_heading level0 row0\" >12</th>\n",
              "      <td id=\"T_547c2_row0_col0\" class=\"data row0 col0\" >45</td>\n",
              "    </tr>\n",
              "    <tr>\n",
              "      <th id=\"T_547c2_level0_row1\" class=\"row_heading level0 row1\" >18</th>\n",
              "      <td id=\"T_547c2_row1_col0\" class=\"data row1 col0\" >23</td>\n",
              "    </tr>\n",
              "    <tr>\n",
              "      <th id=\"T_547c2_level0_row2\" class=\"row_heading level0 row2\" >10</th>\n",
              "      <td id=\"T_547c2_row2_col0\" class=\"data row2 col0\" >15</td>\n",
              "    </tr>\n",
              "    <tr>\n",
              "      <th id=\"T_547c2_level0_row3\" class=\"row_heading level0 row3\" >19</th>\n",
              "      <td id=\"T_547c2_row3_col0\" class=\"data row3 col0\" >15</td>\n",
              "    </tr>\n",
              "    <tr>\n",
              "      <th id=\"T_547c2_level0_row4\" class=\"row_heading level0 row4\" >13</th>\n",
              "      <td id=\"T_547c2_row4_col0\" class=\"data row4 col0\" >13</td>\n",
              "    </tr>\n",
              "    <tr>\n",
              "      <th id=\"T_547c2_level0_row5\" class=\"row_heading level0 row5\" >0</th>\n",
              "      <td id=\"T_547c2_row5_col0\" class=\"data row5 col0\" >11</td>\n",
              "    </tr>\n",
              "    <tr>\n",
              "      <th id=\"T_547c2_level0_row6\" class=\"row_heading level0 row6\" >1</th>\n",
              "      <td id=\"T_547c2_row6_col0\" class=\"data row6 col0\" >9</td>\n",
              "    </tr>\n",
              "    <tr>\n",
              "      <th id=\"T_547c2_level0_row7\" class=\"row_heading level0 row7\" >3</th>\n",
              "      <td id=\"T_547c2_row7_col0\" class=\"data row7 col0\" >9</td>\n",
              "    </tr>\n",
              "    <tr>\n",
              "      <th id=\"T_547c2_level0_row8\" class=\"row_heading level0 row8\" >14</th>\n",
              "      <td id=\"T_547c2_row8_col0\" class=\"data row8 col0\" >9</td>\n",
              "    </tr>\n",
              "    <tr>\n",
              "      <th id=\"T_547c2_level0_row9\" class=\"row_heading level0 row9\" >6</th>\n",
              "      <td id=\"T_547c2_row9_col0\" class=\"data row9 col0\" >8</td>\n",
              "    </tr>\n",
              "    <tr>\n",
              "      <th id=\"T_547c2_level0_row10\" class=\"row_heading level0 row10\" >7</th>\n",
              "      <td id=\"T_547c2_row10_col0\" class=\"data row10 col0\" >8</td>\n",
              "    </tr>\n",
              "    <tr>\n",
              "      <th id=\"T_547c2_level0_row11\" class=\"row_heading level0 row11\" >4</th>\n",
              "      <td id=\"T_547c2_row11_col0\" class=\"data row11 col0\" >7</td>\n",
              "    </tr>\n",
              "    <tr>\n",
              "      <th id=\"T_547c2_level0_row12\" class=\"row_heading level0 row12\" >5</th>\n",
              "      <td id=\"T_547c2_row12_col0\" class=\"data row12 col0\" >7</td>\n",
              "    </tr>\n",
              "    <tr>\n",
              "      <th id=\"T_547c2_level0_row13\" class=\"row_heading level0 row13\" >9</th>\n",
              "      <td id=\"T_547c2_row13_col0\" class=\"data row13 col0\" >7</td>\n",
              "    </tr>\n",
              "    <tr>\n",
              "      <th id=\"T_547c2_level0_row14\" class=\"row_heading level0 row14\" >16</th>\n",
              "      <td id=\"T_547c2_row14_col0\" class=\"data row14 col0\" >7</td>\n",
              "    </tr>\n",
              "    <tr>\n",
              "      <th id=\"T_547c2_level0_row15\" class=\"row_heading level0 row15\" >2</th>\n",
              "      <td id=\"T_547c2_row15_col0\" class=\"data row15 col0\" >6</td>\n",
              "    </tr>\n",
              "    <tr>\n",
              "      <th id=\"T_547c2_level0_row16\" class=\"row_heading level0 row16\" >15</th>\n",
              "      <td id=\"T_547c2_row16_col0\" class=\"data row16 col0\" >5</td>\n",
              "    </tr>\n",
              "    <tr>\n",
              "      <th id=\"T_547c2_level0_row17\" class=\"row_heading level0 row17\" >11</th>\n",
              "      <td id=\"T_547c2_row17_col0\" class=\"data row17 col0\" >4</td>\n",
              "    </tr>\n",
              "    <tr>\n",
              "      <th id=\"T_547c2_level0_row18\" class=\"row_heading level0 row18\" >17</th>\n",
              "      <td id=\"T_547c2_row18_col0\" class=\"data row18 col0\" >3</td>\n",
              "    </tr>\n",
              "    <tr>\n",
              "      <th id=\"T_547c2_level0_row19\" class=\"row_heading level0 row19\" >8</th>\n",
              "      <td id=\"T_547c2_row19_col0\" class=\"data row19 col0\" >1</td>\n",
              "    </tr>\n",
              "  </tbody>\n",
              "</table>\n"
            ]
          },
          "metadata": {},
          "execution_count": 97
        }
      ]
    },
    {
      "cell_type": "code",
      "source": [
        "complete_df(df_new_drug_indication,drug_full,'Drug-Indication.csv')"
      ],
      "metadata": {
        "id": "oUQ6ogLa2SCA"
      },
      "execution_count": null,
      "outputs": []
    },
    {
      "cell_type": "markdown",
      "source": [
        "## Clusters for relation: Drug-Pathway"
      ],
      "metadata": {
        "id": "-k0M8Pz6pgSW"
      }
    },
    {
      "cell_type": "code",
      "source": [
        "df_drug_pathway,y_drug_pathway,X_drug_pathway = load_data(drug_pathway_df)\n",
        "k_means_elbow_method(X_drug_pathway,'Drug-Pathway')\n",
        "# 20 seems appropriate "
      ],
      "metadata": {
        "colab": {
          "base_uri": "https://localhost:8080/",
          "height": 295
        },
        "id": "D-kuLICuiwQ1",
        "outputId": "e05d09eb-2bfc-40d9-ef6f-fd80cec0716f"
      },
      "execution_count": null,
      "outputs": [
        {
          "output_type": "display_data",
          "data": {
            "text/plain": [
              "<Figure size 432x288 with 1 Axes>"
            ],
            "image/png": "[encoded data removed]"
          },
          "metadata": {
            "needs_background": "light"
          }
        }
      ]
    },
    {
      "cell_type": "code",
      "source": [
        "label_drug_pathway = k_means_clustering(20,X_drug_pathway)\n",
        "df_new_drug_pathway = make_df(label_drug_pathway,y_drug_pathway,'Drug-Pathway.csv',drug_pathway_df)\n",
        "print(\"Drug-Pathway\")\n",
        "cm = sns.light_palette(\"seagreen\", as_cmap=True)\n",
        "df_new_drug_pathway[\"cluster-label\"].value_counts(dropna=False).to_frame().style.background_gradient(cmap=cm)"
      ],
      "metadata": {
        "colab": {
          "base_uri": "https://localhost:8080/",
          "height": 712
        },
        "id": "1VTjSjePoQBf",
        "outputId": "fc599be4-cd77-4d08-9fe4-f7cd276f1f1a"
      },
      "execution_count": null,
      "outputs": [
        {
          "output_type": "stream",
          "name": "stdout",
          "text": [
            "107.28625639132215\n",
            "Drug-Pathway\n"
          ]
        },
        {
          "output_type": "execute_result",
          "data": {
            "text/plain": [
              "<pandas.io.formats.style.Styler at 0x7fedbf914d50>"
            ],
            "text/html": [
              "<style type=\"text/css\">\n",
              "#T_e6aff_row0_col0 {\n",
              "  background-color: #2e8b57;\n",
              "  color: #f1f1f1;\n",
              "}\n",
              "#T_e6aff_row1_col0 {\n",
              "  background-color: #67aa84;\n",
              "  color: #f1f1f1;\n",
              "}\n",
              "#T_e6aff_row2_col0 {\n",
              "  background-color: #70af8b;\n",
              "  color: #f1f1f1;\n",
              "}\n",
              "#T_e6aff_row3_col0 {\n",
              "  background-color: #91c1a5;\n",
              "  color: #000000;\n",
              "}\n",
              "#T_e6aff_row4_col0 {\n",
              "  background-color: #99c5ac;\n",
              "  color: #000000;\n",
              "}\n",
              "#T_e6aff_row5_col0, #T_e6aff_row6_col0 {\n",
              "  background-color: #a1cab2;\n",
              "  color: #000000;\n",
              "}\n",
              "#T_e6aff_row7_col0 {\n",
              "  background-color: #b2d3c0;\n",
              "  color: #000000;\n",
              "}\n",
              "#T_e6aff_row8_col0, #T_e6aff_row9_col0, #T_e6aff_row10_col0, #T_e6aff_row11_col0, #T_e6aff_row12_col0 {\n",
              "  background-color: #c2dccd;\n",
              "  color: #000000;\n",
              "}\n",
              "#T_e6aff_row13_col0 {\n",
              "  background-color: #cae1d3;\n",
              "  color: #000000;\n",
              "}\n",
              "#T_e6aff_row14_col0, #T_e6aff_row15_col0, #T_e6aff_row16_col0 {\n",
              "  background-color: #dbeae0;\n",
              "  color: #000000;\n",
              "}\n",
              "#T_e6aff_row17_col0, #T_e6aff_row18_col0 {\n",
              "  background-color: #e3eee7;\n",
              "  color: #000000;\n",
              "}\n",
              "#T_e6aff_row19_col0 {\n",
              "  background-color: #ebf3ed;\n",
              "  color: #000000;\n",
              "}\n",
              "</style>\n",
              "<table id=\"T_e6aff_\" class=\"dataframe\">\n",
              "  <thead>\n",
              "    <tr>\n",
              "      <th class=\"blank level0\" >&nbsp;</th>\n",
              "      <th class=\"col_heading level0 col0\" >cluster-label</th>\n",
              "    </tr>\n",
              "  </thead>\n",
              "  <tbody>\n",
              "    <tr>\n",
              "      <th id=\"T_e6aff_level0_row0\" class=\"row_heading level0 row0\" >5</th>\n",
              "      <td id=\"T_e6aff_row0_col0\" class=\"data row0 col0\" >24</td>\n",
              "    </tr>\n",
              "    <tr>\n",
              "      <th id=\"T_e6aff_level0_row1\" class=\"row_heading level0 row1\" >13</th>\n",
              "      <td id=\"T_e6aff_row1_col0\" class=\"data row1 col0\" >17</td>\n",
              "    </tr>\n",
              "    <tr>\n",
              "      <th id=\"T_e6aff_level0_row2\" class=\"row_heading level0 row2\" >8</th>\n",
              "      <td id=\"T_e6aff_row2_col0\" class=\"data row2 col0\" >16</td>\n",
              "    </tr>\n",
              "    <tr>\n",
              "      <th id=\"T_e6aff_level0_row3\" class=\"row_heading level0 row3\" >1</th>\n",
              "      <td id=\"T_e6aff_row3_col0\" class=\"data row3 col0\" >12</td>\n",
              "    </tr>\n",
              "    <tr>\n",
              "      <th id=\"T_e6aff_level0_row4\" class=\"row_heading level0 row4\" >4</th>\n",
              "      <td id=\"T_e6aff_row4_col0\" class=\"data row4 col0\" >11</td>\n",
              "    </tr>\n",
              "    <tr>\n",
              "      <th id=\"T_e6aff_level0_row5\" class=\"row_heading level0 row5\" >3</th>\n",
              "      <td id=\"T_e6aff_row5_col0\" class=\"data row5 col0\" >10</td>\n",
              "    </tr>\n",
              "    <tr>\n",
              "      <th id=\"T_e6aff_level0_row6\" class=\"row_heading level0 row6\" >6</th>\n",
              "      <td id=\"T_e6aff_row6_col0\" class=\"data row6 col0\" >10</td>\n",
              "    </tr>\n",
              "    <tr>\n",
              "      <th id=\"T_e6aff_level0_row7\" class=\"row_heading level0 row7\" >2</th>\n",
              "      <td id=\"T_e6aff_row7_col0\" class=\"data row7 col0\" >8</td>\n",
              "    </tr>\n",
              "    <tr>\n",
              "      <th id=\"T_e6aff_level0_row8\" class=\"row_heading level0 row8\" >0</th>\n",
              "      <td id=\"T_e6aff_row8_col0\" class=\"data row8 col0\" >6</td>\n",
              "    </tr>\n",
              "    <tr>\n",
              "      <th id=\"T_e6aff_level0_row9\" class=\"row_heading level0 row9\" >12</th>\n",
              "      <td id=\"T_e6aff_row9_col0\" class=\"data row9 col0\" >6</td>\n",
              "    </tr>\n",
              "    <tr>\n",
              "      <th id=\"T_e6aff_level0_row10\" class=\"row_heading level0 row10\" >16</th>\n",
              "      <td id=\"T_e6aff_row10_col0\" class=\"data row10 col0\" >6</td>\n",
              "    </tr>\n",
              "    <tr>\n",
              "      <th id=\"T_e6aff_level0_row11\" class=\"row_heading level0 row11\" >10</th>\n",
              "      <td id=\"T_e6aff_row11_col0\" class=\"data row11 col0\" >6</td>\n",
              "    </tr>\n",
              "    <tr>\n",
              "      <th id=\"T_e6aff_level0_row12\" class=\"row_heading level0 row12\" >9</th>\n",
              "      <td id=\"T_e6aff_row12_col0\" class=\"data row12 col0\" >6</td>\n",
              "    </tr>\n",
              "    <tr>\n",
              "      <th id=\"T_e6aff_level0_row13\" class=\"row_heading level0 row13\" >14</th>\n",
              "      <td id=\"T_e6aff_row13_col0\" class=\"data row13 col0\" >5</td>\n",
              "    </tr>\n",
              "    <tr>\n",
              "      <th id=\"T_e6aff_level0_row14\" class=\"row_heading level0 row14\" >15</th>\n",
              "      <td id=\"T_e6aff_row14_col0\" class=\"data row14 col0\" >3</td>\n",
              "    </tr>\n",
              "    <tr>\n",
              "      <th id=\"T_e6aff_level0_row15\" class=\"row_heading level0 row15\" >17</th>\n",
              "      <td id=\"T_e6aff_row15_col0\" class=\"data row15 col0\" >3</td>\n",
              "    </tr>\n",
              "    <tr>\n",
              "      <th id=\"T_e6aff_level0_row16\" class=\"row_heading level0 row16\" >18</th>\n",
              "      <td id=\"T_e6aff_row16_col0\" class=\"data row16 col0\" >3</td>\n",
              "    </tr>\n",
              "    <tr>\n",
              "      <th id=\"T_e6aff_level0_row17\" class=\"row_heading level0 row17\" >11</th>\n",
              "      <td id=\"T_e6aff_row17_col0\" class=\"data row17 col0\" >2</td>\n",
              "    </tr>\n",
              "    <tr>\n",
              "      <th id=\"T_e6aff_level0_row18\" class=\"row_heading level0 row18\" >19</th>\n",
              "      <td id=\"T_e6aff_row18_col0\" class=\"data row18 col0\" >2</td>\n",
              "    </tr>\n",
              "    <tr>\n",
              "      <th id=\"T_e6aff_level0_row19\" class=\"row_heading level0 row19\" >7</th>\n",
              "      <td id=\"T_e6aff_row19_col0\" class=\"data row19 col0\" >1</td>\n",
              "    </tr>\n",
              "  </tbody>\n",
              "</table>\n"
            ]
          },
          "metadata": {},
          "execution_count": 99
        }
      ]
    },
    {
      "cell_type": "code",
      "source": [
        "complete_df(df_new_drug_pathway,drug_full,'Drug-Pathway.csv')"
      ],
      "metadata": {
        "id": "XENdz0G_2Zja"
      },
      "execution_count": null,
      "outputs": []
    },
    {
      "cell_type": "markdown",
      "source": [
        "## Clusters for relation: Drug-Target"
      ],
      "metadata": {
        "id": "PyNTM8ZkpjCY"
      }
    },
    {
      "cell_type": "code",
      "source": [
        "df_drug_target,y_drug_target,X_drug_target = load_data(drug_target_df)\n",
        "k_means_elbow_method(X_drug_target,'Drug-Target')\n",
        "# 15 seems appropriate "
      ],
      "metadata": {
        "colab": {
          "base_uri": "https://localhost:8080/",
          "height": 295
        },
        "id": "3KGdeCvHjMY9",
        "outputId": "1fd80494-ba0b-4637-f863-63bb2845a883"
      },
      "execution_count": null,
      "outputs": [
        {
          "output_type": "display_data",
          "data": {
            "text/plain": [
              "<Figure size 432x288 with 1 Axes>"
            ],
            "image/png": "[encoded data removed]"
          },
          "metadata": {
            "needs_background": "light"
          }
        }
      ]
    },
    {
      "cell_type": "code",
      "source": [
        "label_drug_target = k_means_clustering(20,X_drug_target)\n",
        "df_new_drug_target = make_df(label_drug_target,y_drug_target,'Drug-Target.csv',drug_target_df)\n",
        "print(\"Drug-Target\")\n",
        "cm = sns.light_palette(\"seagreen\", as_cmap=True)\n",
        "df_new_drug_target[\"cluster-label\"].value_counts(dropna=False).to_frame().style.background_gradient(cmap=cm)"
      ],
      "metadata": {
        "colab": {
          "base_uri": "https://localhost:8080/",
          "height": 712
        },
        "id": "NNYBtBmejlRA",
        "outputId": "93edd519-4468-45a5-bb1b-d37f19e13450"
      },
      "execution_count": null,
      "outputs": [
        {
          "output_type": "stream",
          "name": "stdout",
          "text": [
            "219.74345632999484\n",
            "Drug-Target\n"
          ]
        },
        {
          "output_type": "execute_result",
          "data": {
            "text/plain": [
              "<pandas.io.formats.style.Styler at 0x7fedbfb7f490>"
            ],
            "text/html": [
              "<style type=\"text/css\">\n",
              "#T_9bab3_row0_col0 {\n",
              "  background-color: #2e8b57;\n",
              "  color: #f1f1f1;\n",
              "}\n",
              "#T_9bab3_row1_col0 {\n",
              "  background-color: #338e5b;\n",
              "  color: #f1f1f1;\n",
              "}\n",
              "#T_9bab3_row2_col0 {\n",
              "  background-color: #86bb9d;\n",
              "  color: #000000;\n",
              "}\n",
              "#T_9bab3_row3_col0 {\n",
              "  background-color: #98c5ab;\n",
              "  color: #000000;\n",
              "}\n",
              "#T_9bab3_row4_col0 {\n",
              "  background-color: #b0d2be;\n",
              "  color: #000000;\n",
              "}\n",
              "#T_9bab3_row5_col0 {\n",
              "  background-color: #c7dfd1;\n",
              "  color: #000000;\n",
              "}\n",
              "#T_9bab3_row6_col0 {\n",
              "  background-color: #cde2d6;\n",
              "  color: #000000;\n",
              "}\n",
              "#T_9bab3_row7_col0, #T_9bab3_row8_col0 {\n",
              "  background-color: #d3e6da;\n",
              "  color: #000000;\n",
              "}\n",
              "#T_9bab3_row9_col0, #T_9bab3_row10_col0, #T_9bab3_row11_col0 {\n",
              "  background-color: #d9e9df;\n",
              "  color: #000000;\n",
              "}\n",
              "#T_9bab3_row12_col0 {\n",
              "  background-color: #dfece4;\n",
              "  color: #000000;\n",
              "}\n",
              "#T_9bab3_row13_col0, #T_9bab3_row14_col0, #T_9bab3_row15_col0 {\n",
              "  background-color: #e5efe9;\n",
              "  color: #000000;\n",
              "}\n",
              "#T_9bab3_row16_col0, #T_9bab3_row17_col0, #T_9bab3_row18_col0, #T_9bab3_row19_col0 {\n",
              "  background-color: #ebf3ed;\n",
              "  color: #000000;\n",
              "}\n",
              "</style>\n",
              "<table id=\"T_9bab3_\" class=\"dataframe\">\n",
              "  <thead>\n",
              "    <tr>\n",
              "      <th class=\"blank level0\" >&nbsp;</th>\n",
              "      <th class=\"col_heading level0 col0\" >cluster-label</th>\n",
              "    </tr>\n",
              "  </thead>\n",
              "  <tbody>\n",
              "    <tr>\n",
              "      <th id=\"T_9bab3_level0_row0\" class=\"row_heading level0 row0\" >7</th>\n",
              "      <td id=\"T_9bab3_row0_col0\" class=\"data row0 col0\" >33</td>\n",
              "    </tr>\n",
              "    <tr>\n",
              "      <th id=\"T_9bab3_level0_row1\" class=\"row_heading level0 row1\" >8</th>\n",
              "      <td id=\"T_9bab3_row1_col0\" class=\"data row1 col0\" >32</td>\n",
              "    </tr>\n",
              "    <tr>\n",
              "      <th id=\"T_9bab3_level0_row2\" class=\"row_heading level0 row2\" >1</th>\n",
              "      <td id=\"T_9bab3_row2_col0\" class=\"data row2 col0\" >18</td>\n",
              "    </tr>\n",
              "    <tr>\n",
              "      <th id=\"T_9bab3_level0_row3\" class=\"row_heading level0 row3\" >16</th>\n",
              "      <td id=\"T_9bab3_row3_col0\" class=\"data row3 col0\" >15</td>\n",
              "    </tr>\n",
              "    <tr>\n",
              "      <th id=\"T_9bab3_level0_row4\" class=\"row_heading level0 row4\" >10</th>\n",
              "      <td id=\"T_9bab3_row4_col0\" class=\"data row4 col0\" >11</td>\n",
              "    </tr>\n",
              "    <tr>\n",
              "      <th id=\"T_9bab3_level0_row5\" class=\"row_heading level0 row5\" >3</th>\n",
              "      <td id=\"T_9bab3_row5_col0\" class=\"data row5 col0\" >7</td>\n",
              "    </tr>\n",
              "    <tr>\n",
              "      <th id=\"T_9bab3_level0_row6\" class=\"row_heading level0 row6\" >9</th>\n",
              "      <td id=\"T_9bab3_row6_col0\" class=\"data row6 col0\" >6</td>\n",
              "    </tr>\n",
              "    <tr>\n",
              "      <th id=\"T_9bab3_level0_row7\" class=\"row_heading level0 row7\" >14</th>\n",
              "      <td id=\"T_9bab3_row7_col0\" class=\"data row7 col0\" >5</td>\n",
              "    </tr>\n",
              "    <tr>\n",
              "      <th id=\"T_9bab3_level0_row8\" class=\"row_heading level0 row8\" >5</th>\n",
              "      <td id=\"T_9bab3_row8_col0\" class=\"data row8 col0\" >5</td>\n",
              "    </tr>\n",
              "    <tr>\n",
              "      <th id=\"T_9bab3_level0_row9\" class=\"row_heading level0 row9\" >0</th>\n",
              "      <td id=\"T_9bab3_row9_col0\" class=\"data row9 col0\" >4</td>\n",
              "    </tr>\n",
              "    <tr>\n",
              "      <th id=\"T_9bab3_level0_row10\" class=\"row_heading level0 row10\" >2</th>\n",
              "      <td id=\"T_9bab3_row10_col0\" class=\"data row10 col0\" >4</td>\n",
              "    </tr>\n",
              "    <tr>\n",
              "      <th id=\"T_9bab3_level0_row11\" class=\"row_heading level0 row11\" >19</th>\n",
              "      <td id=\"T_9bab3_row11_col0\" class=\"data row11 col0\" >4</td>\n",
              "    </tr>\n",
              "    <tr>\n",
              "      <th id=\"T_9bab3_level0_row12\" class=\"row_heading level0 row12\" >4</th>\n",
              "      <td id=\"T_9bab3_row12_col0\" class=\"data row12 col0\" >3</td>\n",
              "    </tr>\n",
              "    <tr>\n",
              "      <th id=\"T_9bab3_level0_row13\" class=\"row_heading level0 row13\" >11</th>\n",
              "      <td id=\"T_9bab3_row13_col0\" class=\"data row13 col0\" >2</td>\n",
              "    </tr>\n",
              "    <tr>\n",
              "      <th id=\"T_9bab3_level0_row14\" class=\"row_heading level0 row14\" >17</th>\n",
              "      <td id=\"T_9bab3_row14_col0\" class=\"data row14 col0\" >2</td>\n",
              "    </tr>\n",
              "    <tr>\n",
              "      <th id=\"T_9bab3_level0_row15\" class=\"row_heading level0 row15\" >18</th>\n",
              "      <td id=\"T_9bab3_row15_col0\" class=\"data row15 col0\" >2</td>\n",
              "    </tr>\n",
              "    <tr>\n",
              "      <th id=\"T_9bab3_level0_row16\" class=\"row_heading level0 row16\" >6</th>\n",
              "      <td id=\"T_9bab3_row16_col0\" class=\"data row16 col0\" >1</td>\n",
              "    </tr>\n",
              "    <tr>\n",
              "      <th id=\"T_9bab3_level0_row17\" class=\"row_heading level0 row17\" >12</th>\n",
              "      <td id=\"T_9bab3_row17_col0\" class=\"data row17 col0\" >1</td>\n",
              "    </tr>\n",
              "    <tr>\n",
              "      <th id=\"T_9bab3_level0_row18\" class=\"row_heading level0 row18\" >13</th>\n",
              "      <td id=\"T_9bab3_row18_col0\" class=\"data row18 col0\" >1</td>\n",
              "    </tr>\n",
              "    <tr>\n",
              "      <th id=\"T_9bab3_level0_row19\" class=\"row_heading level0 row19\" >15</th>\n",
              "      <td id=\"T_9bab3_row19_col0\" class=\"data row19 col0\" >1</td>\n",
              "    </tr>\n",
              "  </tbody>\n",
              "</table>\n"
            ]
          },
          "metadata": {},
          "execution_count": 101
        }
      ]
    },
    {
      "cell_type": "code",
      "source": [
        "complete_df(df_new_drug_target,drug_full,'Drug-Target.csv')"
      ],
      "metadata": {
        "id": "pwV310xxo6jU"
      },
      "execution_count": null,
      "outputs": []
    }
  ]
}