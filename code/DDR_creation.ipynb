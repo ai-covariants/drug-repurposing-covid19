{
  "nbformat": 4,
  "nbformat_minor": 0,
  "metadata": {
    "colab": {
      "provenance": []
    },
    "kernelspec": {
      "name": "python3",
      "display_name": "Python 3"
    },
    "language_info": {
      "name": "python"
    }
  },
  "cells": [
    {
      "cell_type": "code",
      "execution_count": 1,
      "metadata": {
        "colab": {
          "base_uri": "https://localhost:8080/"
        },
        "id": "Az2rWH6ix7Ca",
        "outputId": "b774be8d-ea41-4527-d88b-522f999f45f8"
      },
      "outputs": [
        {
          "output_type": "stream",
          "name": "stdout",
          "text": [
            "Mounted at /content/drive\n"
          ]
        }
      ],
      "source": [
        "from google.colab import drive\n",
        "drive.mount('/content/drive')"
      ]
    },
    {
      "cell_type": "code",
      "source": [
        "import numpy as np\n",
        "import pandas as pd\n",
        "import matplotlib.pyplot as plt\n",
        "import seaborn as sns\n",
        "%matplotlib inline"
      ],
      "metadata": {
        "id": "J2sR7TeNyAoZ"
      },
      "execution_count": 2,
      "outputs": []
    },
    {
      "cell_type": "code",
      "source": [
        "drug_moa_df = pd.read_csv('/content/drive/MyDrive/Thesis_5_1/data/L1 intermediate DDR results/Drug-MOA.csv')\n",
        "drug_contraindication_df = pd.read_csv('/content/drive/MyDrive/Thesis_5_1/data/L1 intermediate DDR results/Drug-Contraindication.csv')\n",
        "drug_drug_intraction_df = pd.read_csv('/content/drive/MyDrive/Thesis_5_1/data/L1 intermediate DDR results/Drug-Drug-Interaction.csv')\n",
        "drug_indication_df = pd.read_csv('/content/drive/MyDrive/Thesis_5_1/data/L1 intermediate DDR results/Drug-Indication.csv')\n",
        "drug_pathway_df = pd.read_csv('/content/drive/MyDrive/Thesis_5_1/data/L1 intermediate DDR results/Drug-Pathway.csv')\n",
        "drug_target_df = pd.read_csv('/content/drive/MyDrive/Thesis_5_1/data/L1 intermediate DDR results/Drug-Target.csv')\n",
        "drug_df = pd.read_csv('/content/drive/MyDrive/Thesis_5_1/data/drug-nodes.csv')"
      ],
      "metadata": {
        "id": "f8eMrXlUyIbC"
      },
      "execution_count": 3,
      "outputs": []
    },
    {
      "cell_type": "code",
      "source": [
        "def make_DDR1(df):\n",
        "  neighbour_matrix = np.zeros(214)\n",
        "  labels = df['cluster-label'].to_numpy()\n",
        "  repeat_labels = np.repeat(labels.T,214, axis=0).reshape(214,214)\n",
        "  proximity_matrix = (repeat_labels == repeat_labels.T).astype(int)\n",
        "  return proximity_matrix"
      ],
      "metadata": {
        "id": "K8B9Hqfl8dgb"
      },
      "execution_count": 4,
      "outputs": []
    },
    {
      "cell_type": "code",
      "source": [
        "df_moa_matrix = make_DDR1(drug_moa_df)\n",
        "df_contra_matrix = make_DDR1(drug_contraindication_df)\n",
        "df_target_matrix = make_DDR1(drug_target_df)\n",
        "df_path_matrix = make_DDR1(drug_pathway_df)\n",
        "df_inter_matrix = make_DDR1(drug_drug_intraction_df)\n",
        "df_ind_matrix = make_DDR1(drug_indication_df)"
      ],
      "metadata": {
        "id": "sqmqcPUR-ktr"
      },
      "execution_count": 5,
      "outputs": []
    },
    {
      "cell_type": "code",
      "source": [
        "df_moa_matrix"
      ],
      "metadata": {
        "colab": {
          "base_uri": "https://localhost:8080/"
        },
        "id": "8yB3sNc0R_mV",
        "outputId": "ded92bd0-25b0-4225-f94f-6c04efd8ca1c"
      },
      "execution_count": 6,
      "outputs": [
        {
          "output_type": "execute_result",
          "data": {
            "text/plain": [
              "array([[1, 0, 0, ..., 0, 0, 0],\n",
              "       [0, 1, 1, ..., 0, 0, 0],\n",
              "       [0, 1, 1, ..., 0, 0, 0],\n",
              "       ...,\n",
              "       [0, 0, 0, ..., 1, 0, 0],\n",
              "       [0, 0, 0, ..., 0, 1, 0],\n",
              "       [0, 0, 0, ..., 0, 0, 1]])"
            ]
          },
          "metadata": {},
          "execution_count": 6
        }
      ]
    },
    {
      "cell_type": "code",
      "source": [
        "list_relation = [df_moa_matrix,df_contra_matrix,df_target_matrix,df_path_matrix,df_inter_matrix,df_ind_matrix]"
      ],
      "metadata": {
        "id": "-upIHaeH-r6p"
      },
      "execution_count": 7,
      "outputs": []
    },
    {
      "cell_type": "code",
      "source": [
        "DDR_temp = np.sum(list_relation, axis=0)"
      ],
      "metadata": {
        "id": "2cDdm_c9_gxa"
      },
      "execution_count": 11,
      "outputs": []
    },
    {
      "cell_type": "code",
      "source": [
        "DDR_temp"
      ],
      "metadata": {
        "colab": {
          "base_uri": "https://localhost:8080/"
        },
        "id": "vv59HIYcSjm2",
        "outputId": "8bbbd009-2865-44c5-fcd7-24bb08e69366"
      },
      "execution_count": 12,
      "outputs": [
        {
          "output_type": "execute_result",
          "data": {
            "text/plain": [
              "array([[6, 1, 2, ..., 0, 0, 0],\n",
              "       [1, 6, 3, ..., 0, 0, 1],\n",
              "       [2, 3, 6, ..., 0, 0, 0],\n",
              "       ...,\n",
              "       [0, 0, 0, ..., 6, 1, 0],\n",
              "       [0, 0, 0, ..., 1, 6, 0],\n",
              "       [0, 1, 0, ..., 0, 0, 6]])"
            ]
          },
          "metadata": {},
          "execution_count": 12
        }
      ]
    },
    {
      "cell_type": "code",
      "source": [
        "DDR = DDR_temp/6\n",
        "DDR"
      ],
      "metadata": {
        "colab": {
          "base_uri": "https://localhost:8080/"
        },
        "id": "Jn6fHhT2SKHf",
        "outputId": "3f4be807-a645-4ada-b024-ffddec444892"
      },
      "execution_count": 13,
      "outputs": [
        {
          "output_type": "execute_result",
          "data": {
            "text/plain": [
              "array([[1.        , 0.16666667, 0.33333333, ..., 0.        , 0.        ,\n",
              "        0.        ],\n",
              "       [0.16666667, 1.        , 0.5       , ..., 0.        , 0.        ,\n",
              "        0.16666667],\n",
              "       [0.33333333, 0.5       , 1.        , ..., 0.        , 0.        ,\n",
              "        0.        ],\n",
              "       ...,\n",
              "       [0.        , 0.        , 0.        , ..., 1.        , 0.16666667,\n",
              "        0.        ],\n",
              "       [0.        , 0.        , 0.        , ..., 0.16666667, 1.        ,\n",
              "        0.        ],\n",
              "       [0.        , 0.16666667, 0.        , ..., 0.        , 0.        ,\n",
              "        1.        ]])"
            ]
          },
          "metadata": {},
          "execution_count": 13
        }
      ]
    },
    {
      "cell_type": "code",
      "source": [
        "pd.DataFrame(DDR).to_csv(\"/content/drive/MyDrive/Thesis_5_1/data/DDR1.csv\")"
      ],
      "metadata": {
        "id": "vyINCDB9SK46"
      },
      "execution_count": 14,
      "outputs": []
    },
    {
      "cell_type": "code",
      "source": [],
      "metadata": {
        "id": "OazpvTShS-vT"
      },
      "execution_count": null,
      "outputs": []
    }
  ]
}