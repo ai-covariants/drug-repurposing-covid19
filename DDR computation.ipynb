{
  "nbformat": 4,
  "nbformat_minor": 0,
  "metadata": {
    "colab": {
      "provenance": []
    },
    "kernelspec": {
      "name": "python3",
      "display_name": "Python 3"
    },
    "language_info": {
      "name": "python"
    }
  },
  "cells": [
    {
      "cell_type": "code",
      "execution_count": null,
      "metadata": {
        "colab": {
          "base_uri": "https://localhost:8080/"
        },
        "id": "Az2rWH6ix7Ca",
        "outputId": "e59306c4-f412-49cd-af18-cd65d50fc643"
      },
      "outputs": [
        {
          "output_type": "stream",
          "name": "stdout",
          "text": [
            "Drive already mounted at /content/drive; to attempt to forcibly remount, call drive.mount(\"/content/drive\", force_remount=True).\n"
          ]
        }
      ],
      "source": [
        "from google.colab import drive\n",
        "drive.mount('/content/drive')"
      ]
    },
    {
      "cell_type": "code",
      "source": [
        "import numpy as np\n",
        "import pandas as pd\n",
        "import matplotlib.pyplot as plt\n",
        "import networkx as nx\n",
        "import seaborn as sns\n",
        "%matplotlib inline"
      ],
      "metadata": {
        "id": "J2sR7TeNyAoZ"
      },
      "execution_count": null,
      "outputs": []
    },
    {
      "cell_type": "code",
      "source": [
        "drug_moa_df = pd.read_csv('/content/drive/MyDrive/Thesis_5_1/data/T1 cluster final/Drug-MOA-HC.csv')\n",
        "drug_indication_df = pd.read_csv('/content/drive/MyDrive/Thesis_5_1/data/T1 cluster final/Drug-Indication-HC.csv')\n",
        "drug_pathway_df = pd.read_csv('/content/drive/MyDrive/Thesis_5_1/data/T1 cluster final/Drug-Pathway-HC.csv')\n",
        "drug_target_df = pd.read_csv('/content/drive/MyDrive/Thesis_5_1/data/T1 cluster final/Drug-Target-HC.csv')\n",
        "drug_df = pd.read_csv('/content/drive/MyDrive/Thesis_5_1/data/with clinical trial drugs/drug_nodes_CT.csv')"
      ],
      "metadata": {
        "id": "f8eMrXlUyIbC"
      },
      "execution_count": null,
      "outputs": []
    },
    {
      "cell_type": "code",
      "source": [
        "def make_DDR1(df):\n",
        "  neighbour_matrix = np.zeros(438)\n",
        "  labels = df['cluster-label'].to_numpy()\n",
        "  repeat_labels = np.repeat(labels.T,438, axis=0).reshape(438,438)\n",
        "  proximity_matrix = (repeat_labels == repeat_labels.T).astype(int)\n",
        "  return proximity_matrix"
      ],
      "metadata": {
        "id": "K8B9Hqfl8dgb"
      },
      "execution_count": null,
      "outputs": []
    },
    {
      "cell_type": "code",
      "source": [
        "df_moa_matrix = make_DDR1(drug_moa_df)\n",
        "df_target_matrix = make_DDR1(drug_target_df)\n",
        "df_path_matrix = make_DDR1(drug_pathway_df)\n",
        "df_ind_matrix = make_DDR1(drug_indication_df)"
      ],
      "metadata": {
        "id": "sqmqcPUR-ktr"
      },
      "execution_count": null,
      "outputs": []
    },
    {
      "cell_type": "code",
      "source": [
        "df_moa = pd.DataFrame(df_moa_matrix)\n",
        "df_tar = pd.DataFrame(df_target_matrix)\n",
        "df_path = pd.DataFrame(df_path_matrix)\n",
        "df_ind = pd.DataFrame(df_ind_matrix)"
      ],
      "metadata": {
        "id": "8yB3sNc0R_mV"
      },
      "execution_count": null,
      "outputs": []
    },
    {
      "cell_type": "code",
      "source": [
        "DDR = np.logical_or(np.logical_or(np.logical_or(df_moa_matrix,df_target_matrix),df_path_matrix),df_ind_matrix)\n",
        "DDR = DDR.astype(int)\n",
        "DDR"
      ],
      "metadata": {
        "id": "2cDdm_c9_gxa",
        "colab": {
          "base_uri": "https://localhost:8080/"
        },
        "outputId": "d39dd268-4881-4c65-d8f5-e229ebd308f5"
      },
      "execution_count": null,
      "outputs": [
        {
          "output_type": "execute_result",
          "data": {
            "text/plain": [
              "array([[1, 0, 0, ..., 0, 0, 0],\n",
              "       [0, 1, 1, ..., 0, 1, 0],\n",
              "       [0, 1, 1, ..., 0, 1, 0],\n",
              "       ...,\n",
              "       [0, 0, 0, ..., 1, 0, 0],\n",
              "       [0, 1, 1, ..., 0, 1, 0],\n",
              "       [0, 0, 0, ..., 0, 0, 1]])"
            ]
          },
          "metadata": {},
          "execution_count": 8
        }
      ]
    },
    {
      "cell_type": "code",
      "source": [
        "df_DDR = pd.DataFrame(DDR)\n",
        "df_DDR.to_csv(\"/content/drive/MyDrive/Thesis_5_1/data/DDR-HC-new.csv\")"
      ],
      "metadata": {
        "id": "vyINCDB9SK46"
      },
      "execution_count": null,
      "outputs": []
    },
    {
      "cell_type": "code",
      "source": [
        "sparr = df_DDR.apply(pd.arrays.SparseArray)\n",
        "sparsity = 1 - sparr.sparse.density\n",
        "print(sparsity)"
      ],
      "metadata": {
        "colab": {
          "base_uri": "https://localhost:8080/"
        },
        "id": "Ov92Wz0ow7r7",
        "outputId": "48371073-9c0a-4bb2-aae5-0e18c21a10f1"
      },
      "execution_count": null,
      "outputs": [
        {
          "output_type": "stream",
          "name": "stdout",
          "text": [
            "0.9482704697566773\n"
          ]
        }
      ]
    },
    {
      "cell_type": "code",
      "source": [
        "#!apt -qqq install graphviz\n",
        "#!apt install libgraphviz-dev\n",
        "#!pip install pygraphviz"
      ],
      "metadata": {
        "id": "ubHOmFtpm4-t"
      },
      "execution_count": null,
      "outputs": []
    },
    {
      "cell_type": "code",
      "source": [
        "import pygraphviz\n",
        "from networkx.drawing.nx_agraph import graphviz_layout, to_agraph\n",
        "g = nx.from_pandas_adjacency(df_DDR)\n",
        "A = nx.nx_agraph.to_agraph(g)  # convert to a graphviz graph\n",
        "A.node_attr.update(width='1.5',height = '1.5',color='black',fontsize='32')\n",
        "A.edge_attr.update(len='5.0',color='blue')\n",
        "A.graph_attr.update(overlap='false')\n",
        "A.layout()  # neato layout\n",
        "A.draw('DDRtry.png')  "
      ],
      "metadata": {
        "id": "mjlWxapMLH73"
      },
      "execution_count": null,
      "outputs": []
    },
    {
      "cell_type": "code",
      "source": [
        "g = nx.from_pandas_adjacency(df_moa)\n",
        "A = nx.nx_agraph.to_agraph(g)  # convert to a graphviz graph\n",
        "A.node_attr.update(width='1.5',height = '1.5',color='black',fontsize='32')\n",
        "A.edge_attr.update(len='5.0',color='blue')\n",
        "A.graph_attr.update(overlap='false')\n",
        "A.layout()  # neato layout\n",
        "A.draw('DDR_moa.png') "
      ],
      "metadata": {
        "id": "xIfU1Bog4FDd"
      },
      "execution_count": null,
      "outputs": []
    },
    {
      "cell_type": "code",
      "source": [
        "g = nx.from_pandas_adjacency(df_tar)\n",
        "A = nx.nx_agraph.to_agraph(g)  # convert to a graphviz graph\n",
        "A.node_attr.update(width='1.5',height = '1.5',color='black',fontsize='32')\n",
        "A.edge_attr.update(len='5.0',color='blue')\n",
        "A.graph_attr.update(overlap='false')\n",
        "A.layout()  # neato layout\n",
        "A.draw('DDR_tar.png') "
      ],
      "metadata": {
        "id": "6Jkj4CNR4avr"
      },
      "execution_count": null,
      "outputs": []
    },
    {
      "cell_type": "code",
      "source": [
        "g = nx.from_pandas_adjacency(df_path)\n",
        "A = nx.nx_agraph.to_agraph(g)  # convert to a graphviz graph\n",
        "A.node_attr.update(width='1.5',height = '1.5',color='black',fontsize='32')\n",
        "A.edge_attr.update(len='5.0',color='blue')\n",
        "A.graph_attr.update(overlap='false')\n",
        "A.layout()  # neato layout\n",
        "A.draw('DDR_path.png') "
      ],
      "metadata": {
        "id": "fEIgw7zE4qNP"
      },
      "execution_count": null,
      "outputs": []
    },
    {
      "cell_type": "code",
      "source": [
        "g = nx.from_pandas_adjacency(df_ind)\n",
        "A = nx.nx_agraph.to_agraph(g)  # convert to a graphviz graph\n",
        "A.node_attr.update(width='1.5',height = '1.5',color='black',fontsize='32')\n",
        "A.edge_attr.update(len='5.0',color='blue')\n",
        "A.graph_attr.update(overlap='false')\n",
        "A.layout()  # neato layout\n",
        "A.draw('DDR_ind.png') "
      ],
      "metadata": {
        "id": "ptwGaTML4sqC"
      },
      "execution_count": null,
      "outputs": []
    },
    {
      "cell_type": "code",
      "source": [],
      "metadata": {
        "id": "yIN-gh9C4vmz"
      },
      "execution_count": null,
      "outputs": []
    }
  ]
}